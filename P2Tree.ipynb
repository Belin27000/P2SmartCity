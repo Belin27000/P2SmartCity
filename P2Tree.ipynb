{
 "cells": [
  {
   "cell_type": "code",
   "execution_count": 3,
   "id": "34cf6210-f4e6-4bf7-a396-07c93960c8dc",
   "metadata": {},
   "outputs": [],
   "source": [
    "import pandas as pd"
   ]
  },
  {
   "cell_type": "code",
   "execution_count": 60,
   "id": "d4d52d0f-cd7b-4da0-8128-654e160b5506",
   "metadata": {},
   "outputs": [
    {
     "name": "stdout",
     "output_type": "stream",
     "text": [
      "      id type_emplacement domanialite   arrondissement complement_addresse  \\\n",
      "0  99874            Arbre      Jardin   PARIS 7E ARRDT                 NaN   \n",
      "1  99875            Arbre      Jardin   PARIS 7E ARRDT                 NaN   \n",
      "2  99876            Arbre      Jardin   PARIS 7E ARRDT                 NaN   \n",
      "3  99877            Arbre      Jardin   PARIS 7E ARRDT                 NaN   \n",
      "4  99878            Arbre      Jardin  PARIS 17E ARRDT                 NaN   \n",
      "5  99879            Arbre      Jardin  PARIS 17E ARRDT                 NaN   \n",
      "6  99880            Arbre      Jardin  PARIS 17E ARRDT                 NaN   \n",
      "7  99881            Arbre      Jardin  PARIS 16E ARRDT                 NaN   \n",
      "8  99882            Arbre      Jardin  PARIS 16E ARRDT                 NaN   \n",
      "9  99883            Arbre      Jardin  PARIS 16E ARRDT                 NaN   \n",
      "\n",
      "   numero                                               lieu id_emplacement  \\\n",
      "0     NaN          MAIRIE DU 7E 116 RUE DE GRENELLE PARIS 7E             19   \n",
      "1     NaN          MAIRIE DU 7E 116 RUE DE GRENELLE PARIS 7E             20   \n",
      "2     NaN          MAIRIE DU 7E 116 RUE DE GRENELLE PARIS 7E             21   \n",
      "3     NaN          MAIRIE DU 7E 116 RUE DE GRENELLE PARIS 7E             22   \n",
      "4     NaN         PARC CLICHY-BATIGNOLLES-MARTIN LUTHER KING       000G0037   \n",
      "5     NaN         PARC CLICHY-BATIGNOLLES-MARTIN LUTHER KING       000G0036   \n",
      "6     NaN         PARC CLICHY-BATIGNOLLES-MARTIN LUTHER KING       000G0035   \n",
      "7     NaN  SQUARE ALEXANDRE ET RENE PARODI / 1 PLACE DE L...             35   \n",
      "8     NaN           JARDIN DE L AVENUE FOCH / 10 AVENUE FOCH         802008   \n",
      "9     NaN           JARDIN DE L AVENUE FOCH / 10 AVENUE FOCH         802009   \n",
      "\n",
      "  libelle_francais      genre         espece variete  circonference_cm  \\\n",
      "0       Marronnier   Aesculus  hippocastanum     NaN                20   \n",
      "1               If      Taxus        baccata     NaN                65   \n",
      "2               If      Taxus        baccata     NaN                90   \n",
      "3           Erable       Acer        negundo     NaN                60   \n",
      "4     Arbre à miel  Tetradium      daniellii     NaN                38   \n",
      "5     Arbre à miel  Tetradium      daniellii     NaN                38   \n",
      "6     Arbre à miel  Tetradium      daniellii     NaN                37   \n",
      "7          Platane   Platanus    x hispanica     NaN               260   \n",
      "8          Sophora    Sophora       japonica     NaN               145   \n",
      "9          Sophora    Sophora       japonica     NaN               135   \n",
      "\n",
      "   hauteur_m stade_developpement  remarquable  geo_point_2d_a  geo_point_2d_b  \n",
      "0          5                 NaN          0.0       48.857620        2.320962  \n",
      "1          8                   A          NaN       48.857656        2.321031  \n",
      "2         10                   A          NaN       48.857705        2.321061  \n",
      "3          8                   A          NaN       48.857722        2.321006  \n",
      "4          0                 NaN          NaN       48.890435        2.315289  \n",
      "5          0                 NaN          NaN       48.890470        2.315228  \n",
      "6          0                 NaN          NaN       48.890504        2.315168  \n",
      "7         17                 NaN          NaN       48.876722        2.280222  \n",
      "8         14                   A          0.0       48.871990        2.275814  \n",
      "9         10                   A          0.0       48.872046        2.275752  \n"
     ]
    }
   ],
   "source": [
    "data= pd.read_csv(\"datas/p2-arbres-fr.csv\", sep=\";\") #chargement du fichier CSV dans la variables data\n",
    "print(data.head(10)) #Affiche les 10 première ligne du fichier pour vérifier que ce dernier est bien chargé"
   ]
  },
  {
   "cell_type": "code",
   "execution_count": 62,
   "id": "eb6d325c-da3b-4dc3-987e-8192139fc04f",
   "metadata": {},
   "outputs": [
    {
     "name": "stdout",
     "output_type": "stream",
     "text": [
      "<class 'pandas.core.frame.DataFrame'>\n",
      "RangeIndex: 200137 entries, 0 to 200136\n",
      "Data columns (total 18 columns):\n",
      " #   Column               Non-Null Count   Dtype  \n",
      "---  ------               --------------   -----  \n",
      " 0   id                   200137 non-null  int64  \n",
      " 1   type_emplacement     200137 non-null  object \n",
      " 2   domanialite          200136 non-null  object \n",
      " 3   arrondissement       200137 non-null  object \n",
      " 4   complement_addresse  30902 non-null   object \n",
      " 5   numero               0 non-null       float64\n",
      " 6   lieu                 200137 non-null  object \n",
      " 7   id_emplacement       200137 non-null  object \n",
      " 8   libelle_francais     198640 non-null  object \n",
      " 9   genre                200121 non-null  object \n",
      " 10  espece               198385 non-null  object \n",
      " 11  variete              36777 non-null   object \n",
      " 12  circonference_cm     200137 non-null  int64  \n",
      " 13  hauteur_m            200137 non-null  int64  \n",
      " 14  stade_developpement  132932 non-null  object \n",
      " 15  remarquable          137039 non-null  float64\n",
      " 16  geo_point_2d_a       200137 non-null  float64\n",
      " 17  geo_point_2d_b       200137 non-null  float64\n",
      "dtypes: float64(4), int64(3), object(11)\n",
      "memory usage: 27.5+ MB\n"
     ]
    }
   ],
   "source": [
    "data.info()"
   ]
  },
  {
   "cell_type": "code",
   "execution_count": 64,
   "id": "115553c7-7cbc-4c4f-9052-59416fb443e1",
   "metadata": {},
   "outputs": [
    {
     "name": "stdout",
     "output_type": "stream",
     "text": [
      "Le nombre de ligne du dataFrame 200137\n",
      "Le nombre de colonne du dataFrame 18\n"
     ]
    }
   ],
   "source": [
    "dimension = data.shape\n",
    "print(f\"Le nombre de ligne du dataFrame {dimension[0]}\")\n",
    "print(f\"Le nombre de colonne du dataFrame {dimension[1]}\")"
   ]
  },
  {
   "cell_type": "code",
   "execution_count": 66,
   "id": "fb93e87e-7e80-4cff-95ba-e0cb602386df",
   "metadata": {},
   "outputs": [
    {
     "data": {
      "text/html": [
       "<div>\n",
       "<style scoped>\n",
       "    .dataframe tbody tr th:only-of-type {\n",
       "        vertical-align: middle;\n",
       "    }\n",
       "\n",
       "    .dataframe tbody tr th {\n",
       "        vertical-align: top;\n",
       "    }\n",
       "\n",
       "    .dataframe thead th {\n",
       "        text-align: right;\n",
       "    }\n",
       "</style>\n",
       "<table border=\"1\" class=\"dataframe\">\n",
       "  <thead>\n",
       "    <tr style=\"text-align: right;\">\n",
       "      <th></th>\n",
       "      <th>id</th>\n",
       "      <th>numero</th>\n",
       "      <th>circonference_cm</th>\n",
       "      <th>hauteur_m</th>\n",
       "      <th>remarquable</th>\n",
       "      <th>geo_point_2d_a</th>\n",
       "      <th>geo_point_2d_b</th>\n",
       "    </tr>\n",
       "  </thead>\n",
       "  <tbody>\n",
       "    <tr>\n",
       "      <th>count</th>\n",
       "      <td>2.001370e+05</td>\n",
       "      <td>0.0</td>\n",
       "      <td>200137.000000</td>\n",
       "      <td>200137.000000</td>\n",
       "      <td>137039.000000</td>\n",
       "      <td>200137.000000</td>\n",
       "      <td>200137.000000</td>\n",
       "    </tr>\n",
       "    <tr>\n",
       "      <th>mean</th>\n",
       "      <td>3.872027e+05</td>\n",
       "      <td>NaN</td>\n",
       "      <td>83.380479</td>\n",
       "      <td>13.110509</td>\n",
       "      <td>0.001343</td>\n",
       "      <td>48.854491</td>\n",
       "      <td>2.348208</td>\n",
       "    </tr>\n",
       "    <tr>\n",
       "      <th>std</th>\n",
       "      <td>5.456032e+05</td>\n",
       "      <td>NaN</td>\n",
       "      <td>673.190213</td>\n",
       "      <td>1971.217387</td>\n",
       "      <td>0.036618</td>\n",
       "      <td>0.030234</td>\n",
       "      <td>0.051220</td>\n",
       "    </tr>\n",
       "    <tr>\n",
       "      <th>min</th>\n",
       "      <td>9.987400e+04</td>\n",
       "      <td>NaN</td>\n",
       "      <td>0.000000</td>\n",
       "      <td>0.000000</td>\n",
       "      <td>0.000000</td>\n",
       "      <td>48.742290</td>\n",
       "      <td>2.210241</td>\n",
       "    </tr>\n",
       "    <tr>\n",
       "      <th>25%</th>\n",
       "      <td>1.559270e+05</td>\n",
       "      <td>NaN</td>\n",
       "      <td>30.000000</td>\n",
       "      <td>5.000000</td>\n",
       "      <td>0.000000</td>\n",
       "      <td>48.835021</td>\n",
       "      <td>2.307530</td>\n",
       "    </tr>\n",
       "    <tr>\n",
       "      <th>50%</th>\n",
       "      <td>2.210780e+05</td>\n",
       "      <td>NaN</td>\n",
       "      <td>70.000000</td>\n",
       "      <td>8.000000</td>\n",
       "      <td>0.000000</td>\n",
       "      <td>48.854162</td>\n",
       "      <td>2.351095</td>\n",
       "    </tr>\n",
       "    <tr>\n",
       "      <th>75%</th>\n",
       "      <td>2.741020e+05</td>\n",
       "      <td>NaN</td>\n",
       "      <td>115.000000</td>\n",
       "      <td>12.000000</td>\n",
       "      <td>0.000000</td>\n",
       "      <td>48.876447</td>\n",
       "      <td>2.386838</td>\n",
       "    </tr>\n",
       "    <tr>\n",
       "      <th>max</th>\n",
       "      <td>2.024745e+06</td>\n",
       "      <td>NaN</td>\n",
       "      <td>250255.000000</td>\n",
       "      <td>881818.000000</td>\n",
       "      <td>1.000000</td>\n",
       "      <td>48.911485</td>\n",
       "      <td>2.469759</td>\n",
       "    </tr>\n",
       "  </tbody>\n",
       "</table>\n",
       "</div>"
      ],
      "text/plain": [
       "                 id  numero  circonference_cm      hauteur_m    remarquable  \\\n",
       "count  2.001370e+05     0.0     200137.000000  200137.000000  137039.000000   \n",
       "mean   3.872027e+05     NaN         83.380479      13.110509       0.001343   \n",
       "std    5.456032e+05     NaN        673.190213    1971.217387       0.036618   \n",
       "min    9.987400e+04     NaN          0.000000       0.000000       0.000000   \n",
       "25%    1.559270e+05     NaN         30.000000       5.000000       0.000000   \n",
       "50%    2.210780e+05     NaN         70.000000       8.000000       0.000000   \n",
       "75%    2.741020e+05     NaN        115.000000      12.000000       0.000000   \n",
       "max    2.024745e+06     NaN     250255.000000  881818.000000       1.000000   \n",
       "\n",
       "       geo_point_2d_a  geo_point_2d_b  \n",
       "count   200137.000000   200137.000000  \n",
       "mean        48.854491        2.348208  \n",
       "std          0.030234        0.051220  \n",
       "min         48.742290        2.210241  \n",
       "25%         48.835021        2.307530  \n",
       "50%         48.854162        2.351095  \n",
       "75%         48.876447        2.386838  \n",
       "max         48.911485        2.469759  "
      ]
     },
     "execution_count": 66,
     "metadata": {},
     "output_type": "execute_result"
    }
   ],
   "source": [
    "data.describe()"
   ]
  },
  {
   "cell_type": "code",
   "execution_count": 3,
   "id": "278358ae-8b95-47e9-86b8-b60617b2988a",
   "metadata": {},
   "outputs": [
    {
     "name": "stderr",
     "output_type": "stream",
     "text": [
      "Matplotlib is building the font cache; this may take a moment.\n"
     ]
    }
   ],
   "source": []
  },
  {
   "cell_type": "code",
   "execution_count": null,
   "id": "ea928ee5-b7f0-4b0a-b6c3-7ac80a13b1c6",
   "metadata": {},
   "outputs": [],
   "source": []
  }
 ],
 "metadata": {
  "kernelspec": {
   "display_name": "Python (P2_env)",
   "language": "python",
   "name": "p2_env"
  },
  "language_info": {
   "codemirror_mode": {
    "name": "ipython",
    "version": 3
   },
   "file_extension": ".py",
   "mimetype": "text/x-python",
   "name": "python",
   "nbconvert_exporter": "python",
   "pygments_lexer": "ipython3",
   "version": "3.11.7"
  }
 },
 "nbformat": 4,
 "nbformat_minor": 5
}
