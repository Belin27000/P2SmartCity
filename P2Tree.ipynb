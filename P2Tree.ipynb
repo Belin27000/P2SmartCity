{
 "cells": [
  {
   "cell_type": "markdown",
   "id": "55db69d5-7e18-4193-beb4-ccef18fa35cc",
   "metadata": {},
   "source": [
    "Faire un preambule ce qui va faire le plan de soutenance\n",
    "\n",
    "- analyse du fond\n",
    "- de la forme\n",
    "- des valeurs atypiques\n",
    "\n",
    "- noter le probleme rencontrer comment tu l'a corrigé\n",
    "\n",
    "- shape\n",
    "- info\n",
    "- describe\n",
    "- remplissage des colonne (traitement des valeur null),\n",
    "- valeur impossible\n",
    "- aberante "
   ]
  },
  {
   "cell_type": "markdown",
   "id": "73200699-87a4-4ac9-b6e1-98cd888f6217",
   "metadata": {},
   "source": [
    "# Ce projet fonctionne avec les versions des package suivants:\n",
    "- pandas 2.2.2\n",
    "- matplotlib 3.9.0\n",
    "- seaborn 0.13.2"
   ]
  },
  {
   "cell_type": "markdown",
   "id": "a363a946-bc5e-4dde-8285-511efe6f5ef2",
   "metadata": {},
   "source": [
    "## Ojectifs:\n",
    "- Réaliser une analyse de données afin d'optimiser les tournées des personne d'entretien"
   ]
  },
  {
   "cell_type": "markdown",
   "id": "434e4dab-facc-4e1c-860f-fd002dbf2a0b",
   "metadata": {},
   "source": [
    "## Installation Package"
   ]
  },
  {
   "cell_type": "code",
   "execution_count": 21,
   "id": "34cf6210-f4e6-4bf7-a396-07c93960c8dc",
   "metadata": {},
   "outputs": [],
   "source": [
    "import numpy as np\n",
    "import pandas as pd\n",
    "import matplotlib.pyplot as plt\n",
    "import seaborn as sns"
   ]
  },
  {
   "cell_type": "markdown",
   "id": "7c86b867-2021-4e74-af02-60fb40c4e21d",
   "metadata": {},
   "source": [
    "## Chargement du DataSet à partir du fichier CSV"
   ]
  },
  {
   "cell_type": "code",
   "execution_count": 54,
   "id": "d4d52d0f-cd7b-4da0-8128-654e160b5506",
   "metadata": {},
   "outputs": [],
   "source": [
    "data= pd.read_csv(\"datas/p2-arbres-fr.csv\", sep=\";\") #chargement du fichier CSV dans la variables data"
   ]
  },
  {
   "cell_type": "markdown",
   "id": "0e207c9d-83d7-4ca6-91fc-4d8c71b35cc3",
   "metadata": {},
   "source": [
    "## Analyse du jeu de données"
   ]
  },
  {
   "cell_type": "markdown",
   "id": "023b2dc6-5872-42ce-b056-cc3ca2272d90",
   "metadata": {},
   "source": [
    "### Identifier les types de données"
   ]
  },
  {
   "cell_type": "markdown",
   "id": "ed2bf07e-8231-418a-845d-c25b3fe13172",
   "metadata": {},
   "source": [
    "**1-connaitre les dimensions de son dataset**"
   ]
  },
  {
   "cell_type": "code",
   "execution_count": 25,
   "id": "2026363d-179e-434f-8f6e-75e2d4ededb1",
   "metadata": {},
   "outputs": [
    {
     "name": "stdout",
     "output_type": "stream",
     "text": [
      "Le nombre de ligne du dataFrame 200137\n",
      "Le nombre de colonne du dataFrame 18\n"
     ]
    }
   ],
   "source": [
    "# dimension du dataset\n",
    "dimension = data.shape\n",
    "print(f\"Le nombre de ligne du dataFrame {dimension[0]}\")\n",
    "print(f\"Le nombre de colonne du dataFrame {dimension[1]}\")"
   ]
  },
  {
   "cell_type": "markdown",
   "id": "b63ad264-e653-45f5-a7fd-46c81d6f82b0",
   "metadata": {},
   "source": [
    "**2- connnaitre la composition de son dataset**"
   ]
  },
  {
   "cell_type": "code",
   "execution_count": 28,
   "id": "249c6a92-4473-4d4d-a9b4-4f79985875d1",
   "metadata": {},
   "outputs": [
    {
     "name": "stdout",
     "output_type": "stream",
     "text": [
      "<class 'pandas.core.frame.DataFrame'>\n",
      "RangeIndex: 200137 entries, 0 to 200136\n",
      "Data columns (total 18 columns):\n",
      " #   Column               Non-Null Count   Dtype  \n",
      "---  ------               --------------   -----  \n",
      " 0   id                   200137 non-null  int64  \n",
      " 1   type_emplacement     200137 non-null  object \n",
      " 2   domanialite          200136 non-null  object \n",
      " 3   arrondissement       200137 non-null  object \n",
      " 4   complement_addresse  30902 non-null   object \n",
      " 5   numero               0 non-null       float64\n",
      " 6   lieu                 200137 non-null  object \n",
      " 7   id_emplacement       200137 non-null  object \n",
      " 8   libelle_francais     198640 non-null  object \n",
      " 9   genre                200121 non-null  object \n",
      " 10  espece               198385 non-null  object \n",
      " 11  variete              36777 non-null   object \n",
      " 12  circonference_cm     200137 non-null  int64  \n",
      " 13  hauteur_m            200137 non-null  int64  \n",
      " 14  stade_developpement  132932 non-null  object \n",
      " 15  remarquable          137039 non-null  float64\n",
      " 16  geo_point_2d_a       200137 non-null  float64\n",
      " 17  geo_point_2d_b       200137 non-null  float64\n",
      "dtypes: float64(4), int64(3), object(11)\n",
      "memory usage: 27.5+ MB\n"
     ]
    }
   ],
   "source": [
    "# on identifie les colonnes et le types de données\n",
    "data.info()"
   ]
  },
  {
   "cell_type": "markdown",
   "id": "b2a88510-40d5-4efc-aa52-357bd6d07377",
   "metadata": {},
   "source": [
    "#### Variables quantitative"
   ]
  },
  {
   "cell_type": "markdown",
   "id": "ebbef71a-899b-4b8f-ad1d-84b135ca367c",
   "metadata": {},
   "source": [
    "**3- identifier les principales valeurs de son dataset**"
   ]
  },
  {
   "cell_type": "code",
   "execution_count": 30,
   "id": "fd401a35-9f66-4f56-b644-e0ed07614838",
   "metadata": {},
   "outputs": [
    {
     "data": {
      "text/html": [
       "<div>\n",
       "<style scoped>\n",
       "    .dataframe tbody tr th:only-of-type {\n",
       "        vertical-align: middle;\n",
       "    }\n",
       "\n",
       "    .dataframe tbody tr th {\n",
       "        vertical-align: top;\n",
       "    }\n",
       "\n",
       "    .dataframe thead th {\n",
       "        text-align: right;\n",
       "    }\n",
       "</style>\n",
       "<table border=\"1\" class=\"dataframe\">\n",
       "  <thead>\n",
       "    <tr style=\"text-align: right;\">\n",
       "      <th></th>\n",
       "      <th>id</th>\n",
       "      <th>numero</th>\n",
       "      <th>circonference_cm</th>\n",
       "      <th>hauteur_m</th>\n",
       "      <th>remarquable</th>\n",
       "      <th>geo_point_2d_a</th>\n",
       "      <th>geo_point_2d_b</th>\n",
       "    </tr>\n",
       "  </thead>\n",
       "  <tbody>\n",
       "    <tr>\n",
       "      <th>count</th>\n",
       "      <td>2.001370e+05</td>\n",
       "      <td>0.0</td>\n",
       "      <td>200137.000000</td>\n",
       "      <td>200137.000000</td>\n",
       "      <td>137039.000000</td>\n",
       "      <td>200137.000000</td>\n",
       "      <td>200137.000000</td>\n",
       "    </tr>\n",
       "    <tr>\n",
       "      <th>mean</th>\n",
       "      <td>3.872027e+05</td>\n",
       "      <td>NaN</td>\n",
       "      <td>83.380479</td>\n",
       "      <td>13.110509</td>\n",
       "      <td>0.001343</td>\n",
       "      <td>48.854491</td>\n",
       "      <td>2.348208</td>\n",
       "    </tr>\n",
       "    <tr>\n",
       "      <th>std</th>\n",
       "      <td>5.456032e+05</td>\n",
       "      <td>NaN</td>\n",
       "      <td>673.190213</td>\n",
       "      <td>1971.217387</td>\n",
       "      <td>0.036618</td>\n",
       "      <td>0.030234</td>\n",
       "      <td>0.051220</td>\n",
       "    </tr>\n",
       "    <tr>\n",
       "      <th>min</th>\n",
       "      <td>9.987400e+04</td>\n",
       "      <td>NaN</td>\n",
       "      <td>0.000000</td>\n",
       "      <td>0.000000</td>\n",
       "      <td>0.000000</td>\n",
       "      <td>48.742290</td>\n",
       "      <td>2.210241</td>\n",
       "    </tr>\n",
       "    <tr>\n",
       "      <th>25%</th>\n",
       "      <td>1.559270e+05</td>\n",
       "      <td>NaN</td>\n",
       "      <td>30.000000</td>\n",
       "      <td>5.000000</td>\n",
       "      <td>0.000000</td>\n",
       "      <td>48.835021</td>\n",
       "      <td>2.307530</td>\n",
       "    </tr>\n",
       "    <tr>\n",
       "      <th>50%</th>\n",
       "      <td>2.210780e+05</td>\n",
       "      <td>NaN</td>\n",
       "      <td>70.000000</td>\n",
       "      <td>8.000000</td>\n",
       "      <td>0.000000</td>\n",
       "      <td>48.854162</td>\n",
       "      <td>2.351095</td>\n",
       "    </tr>\n",
       "    <tr>\n",
       "      <th>75%</th>\n",
       "      <td>2.741020e+05</td>\n",
       "      <td>NaN</td>\n",
       "      <td>115.000000</td>\n",
       "      <td>12.000000</td>\n",
       "      <td>0.000000</td>\n",
       "      <td>48.876447</td>\n",
       "      <td>2.386838</td>\n",
       "    </tr>\n",
       "    <tr>\n",
       "      <th>max</th>\n",
       "      <td>2.024745e+06</td>\n",
       "      <td>NaN</td>\n",
       "      <td>250255.000000</td>\n",
       "      <td>881818.000000</td>\n",
       "      <td>1.000000</td>\n",
       "      <td>48.911485</td>\n",
       "      <td>2.469759</td>\n",
       "    </tr>\n",
       "  </tbody>\n",
       "</table>\n",
       "</div>"
      ],
      "text/plain": [
       "                 id  numero  circonference_cm      hauteur_m    remarquable  \\\n",
       "count  2.001370e+05     0.0     200137.000000  200137.000000  137039.000000   \n",
       "mean   3.872027e+05     NaN         83.380479      13.110509       0.001343   \n",
       "std    5.456032e+05     NaN        673.190213    1971.217387       0.036618   \n",
       "min    9.987400e+04     NaN          0.000000       0.000000       0.000000   \n",
       "25%    1.559270e+05     NaN         30.000000       5.000000       0.000000   \n",
       "50%    2.210780e+05     NaN         70.000000       8.000000       0.000000   \n",
       "75%    2.741020e+05     NaN        115.000000      12.000000       0.000000   \n",
       "max    2.024745e+06     NaN     250255.000000  881818.000000       1.000000   \n",
       "\n",
       "       geo_point_2d_a  geo_point_2d_b  \n",
       "count   200137.000000   200137.000000  \n",
       "mean        48.854491        2.348208  \n",
       "std          0.030234        0.051220  \n",
       "min         48.742290        2.210241  \n",
       "25%         48.835021        2.307530  \n",
       "50%         48.854162        2.351095  \n",
       "75%         48.876447        2.386838  \n",
       "max         48.911485        2.469759  "
      ]
     },
     "execution_count": 30,
     "metadata": {},
     "output_type": "execute_result"
    }
   ],
   "source": [
    "# description des variables quantitative\n",
    "data.describe()"
   ]
  },
  {
   "cell_type": "markdown",
   "id": "8c7af3ec-d341-4a16-a000-799b48b1fcdd",
   "metadata": {},
   "source": [
    "#### Variables qualitative"
   ]
  },
  {
   "cell_type": "code",
   "execution_count": 32,
   "id": "5af5c7bb-2f32-472e-a4a7-a6182e9e0fae",
   "metadata": {},
   "outputs": [
    {
     "data": {
      "text/html": [
       "<div>\n",
       "<style scoped>\n",
       "    .dataframe tbody tr th:only-of-type {\n",
       "        vertical-align: middle;\n",
       "    }\n",
       "\n",
       "    .dataframe tbody tr th {\n",
       "        vertical-align: top;\n",
       "    }\n",
       "\n",
       "    .dataframe thead th {\n",
       "        text-align: right;\n",
       "    }\n",
       "</style>\n",
       "<table border=\"1\" class=\"dataframe\">\n",
       "  <thead>\n",
       "    <tr style=\"text-align: right;\">\n",
       "      <th></th>\n",
       "      <th>type_emplacement</th>\n",
       "      <th>domanialite</th>\n",
       "      <th>arrondissement</th>\n",
       "      <th>complement_addresse</th>\n",
       "      <th>lieu</th>\n",
       "      <th>id_emplacement</th>\n",
       "      <th>libelle_francais</th>\n",
       "      <th>genre</th>\n",
       "      <th>espece</th>\n",
       "      <th>variete</th>\n",
       "      <th>stade_developpement</th>\n",
       "    </tr>\n",
       "  </thead>\n",
       "  <tbody>\n",
       "    <tr>\n",
       "      <th>count</th>\n",
       "      <td>200137</td>\n",
       "      <td>200136</td>\n",
       "      <td>200137</td>\n",
       "      <td>30902</td>\n",
       "      <td>200137</td>\n",
       "      <td>200137</td>\n",
       "      <td>198640</td>\n",
       "      <td>200121</td>\n",
       "      <td>198385</td>\n",
       "      <td>36777</td>\n",
       "      <td>132932</td>\n",
       "    </tr>\n",
       "    <tr>\n",
       "      <th>unique</th>\n",
       "      <td>1</td>\n",
       "      <td>9</td>\n",
       "      <td>25</td>\n",
       "      <td>3795</td>\n",
       "      <td>6921</td>\n",
       "      <td>69040</td>\n",
       "      <td>192</td>\n",
       "      <td>175</td>\n",
       "      <td>539</td>\n",
       "      <td>436</td>\n",
       "      <td>4</td>\n",
       "    </tr>\n",
       "    <tr>\n",
       "      <th>top</th>\n",
       "      <td>Arbre</td>\n",
       "      <td>Alignement</td>\n",
       "      <td>PARIS 15E ARRDT</td>\n",
       "      <td>SN°</td>\n",
       "      <td>PARC FLORAL DE PARIS / ROUTE DE LA PYRAMIDE</td>\n",
       "      <td>101001</td>\n",
       "      <td>Platane</td>\n",
       "      <td>Platanus</td>\n",
       "      <td>x hispanica</td>\n",
       "      <td>Baumannii'</td>\n",
       "      <td>A</td>\n",
       "    </tr>\n",
       "    <tr>\n",
       "      <th>freq</th>\n",
       "      <td>200137</td>\n",
       "      <td>104949</td>\n",
       "      <td>17151</td>\n",
       "      <td>557</td>\n",
       "      <td>2995</td>\n",
       "      <td>1324</td>\n",
       "      <td>42508</td>\n",
       "      <td>42591</td>\n",
       "      <td>36409</td>\n",
       "      <td>4538</td>\n",
       "      <td>64438</td>\n",
       "    </tr>\n",
       "  </tbody>\n",
       "</table>\n",
       "</div>"
      ],
      "text/plain": [
       "       type_emplacement domanialite   arrondissement complement_addresse  \\\n",
       "count            200137      200136           200137               30902   \n",
       "unique                1           9               25                3795   \n",
       "top               Arbre  Alignement  PARIS 15E ARRDT                 SN°   \n",
       "freq             200137      104949            17151                 557   \n",
       "\n",
       "                                               lieu id_emplacement  \\\n",
       "count                                        200137         200137   \n",
       "unique                                         6921          69040   \n",
       "top     PARC FLORAL DE PARIS / ROUTE DE LA PYRAMIDE         101001   \n",
       "freq                                           2995           1324   \n",
       "\n",
       "       libelle_francais     genre       espece     variete stade_developpement  \n",
       "count            198640    200121       198385       36777              132932  \n",
       "unique              192       175          539         436                   4  \n",
       "top             Platane  Platanus  x hispanica  Baumannii'                   A  \n",
       "freq              42508     42591        36409        4538               64438  "
      ]
     },
     "execution_count": 32,
     "metadata": {},
     "output_type": "execute_result"
    }
   ],
   "source": [
    "# description des variables qualitative\n",
    "data.describe(include=\"object\")"
   ]
  },
  {
   "cell_type": "markdown",
   "id": "cf7cbd46-392d-4bd1-95d2-00819a02dffe",
   "metadata": {},
   "source": [
    "**4- compte les nombre de valeurs null pour chaque variables**"
   ]
  },
  {
   "cell_type": "code",
   "execution_count": 35,
   "id": "92ce994f-add7-4470-a7e3-cd4bbf57eecc",
   "metadata": {},
   "outputs": [
    {
     "name": "stdout",
     "output_type": "stream",
     "text": [
      "id: 0.00%\n",
      "type_emplacement: 0.00%\n",
      "domanialite: 0.00%\n",
      "arrondissement: 0.00%\n",
      "complement_addresse: 84.56%\n",
      "numero: 100.00%\n",
      "lieu: 0.00%\n",
      "id_emplacement: 0.00%\n",
      "libelle_francais: 0.75%\n",
      "genre: 0.01%\n",
      "espece: 0.88%\n",
      "variete: 81.62%\n",
      "circonference_cm: 0.00%\n",
      "hauteur_m: 0.00%\n",
      "stade_developpement: 33.58%\n",
      "remarquable: 31.53%\n",
      "geo_point_2d_a: 0.00%\n",
      "geo_point_2d_b: 0.00%\n"
     ]
    }
   ],
   "source": [
    "null_counts = data.isnull()\n",
    "null_percentage = (null_counts.sum()/len(data))*100\n",
    "for column, percentage in null_percentage.items():\n",
    "    print(f'{column}: {percentage:.2f}%')"
   ]
  },
  {
   "cell_type": "markdown",
   "id": "036d2764-f8d6-4be7-a572-e9042e629f2a",
   "metadata": {},
   "source": [
    "**5-représentation des valeurs nulles en heatmap**"
   ]
  },
  {
   "cell_type": "code",
   "execution_count": 56,
   "id": "5dcc1993-032a-483c-b810-cb17b6c531a4",
   "metadata": {},
   "outputs": [
    {
     "data": {
      "text/plain": [
       "Text(95.5815972222222, 0.5, 'Colonnes')"
      ]
     },
     "execution_count": 56,
     "metadata": {},
     "output_type": "execute_result"
    },
    {
     "data": {
      "image/png": "[encoded data removed]",
      "text/plain": [
       "<Figure size 1000x800 with 2 Axes>"
      ]
     },
     "metadata": {},
     "output_type": "display_data"
    }
   ],
   "source": [
    "null_percentage=null_percentage.sort_values(ascending=False)\n",
    "null_percentage_df = pd.DataFrame(null_percentage, columns=['Pourcentage de valeurs nulles'])\n",
    "plt.figure(figsize=(10,8))\n",
    "sns.heatmap(null_percentage_df,cmap='viridis', annot=True, fmt='.2f')\n",
    "plt.title('Heatmap des valeurs nulles')\n",
    "#plt.xlabel('Pourcentage valeurs nulles')\n",
    "plt.ylabel('Colonnes')"
   ]
  },
  {
   "cell_type": "markdown",
   "id": "463937c1-9b8d-425e-b9b3-2062c5a25f6c",
   "metadata": {},
   "source": [
    "### Nettoyage des données"
   ]
  },
  {
   "cell_type": "code",
   "execution_count": 40,
   "id": "d56b5ba1-a233-4cec-bd68-fe9509bb1146",
   "metadata": {},
   "outputs": [],
   "source": [
    "# On supprime toute les colonnes que l'on ne souhaite pas utiliser"
   ]
  },
  {
   "cell_type": "code",
   "execution_count": 58,
   "id": "460a1d2f-6e99-4517-9015-86b19180caf7",
   "metadata": {},
   "outputs": [
    {
     "data": {
      "text/html": [
       "<div>\n",
       "<style scoped>\n",
       "    .dataframe tbody tr th:only-of-type {\n",
       "        vertical-align: middle;\n",
       "    }\n",
       "\n",
       "    .dataframe tbody tr th {\n",
       "        vertical-align: top;\n",
       "    }\n",
       "\n",
       "    .dataframe thead th {\n",
       "        text-align: right;\n",
       "    }\n",
       "</style>\n",
       "<table border=\"1\" class=\"dataframe\">\n",
       "  <thead>\n",
       "    <tr style=\"text-align: right;\">\n",
       "      <th></th>\n",
       "      <th>type_emplacement</th>\n",
       "      <th>domanialite</th>\n",
       "      <th>arrondissement</th>\n",
       "      <th>lieu</th>\n",
       "      <th>circonference_cm</th>\n",
       "      <th>hauteur_m</th>\n",
       "      <th>stade_developpement</th>\n",
       "      <th>remarquable</th>\n",
       "      <th>geo_point_2d_a</th>\n",
       "      <th>geo_point_2d_b</th>\n",
       "    </tr>\n",
       "  </thead>\n",
       "  <tbody>\n",
       "    <tr>\n",
       "      <th>0</th>\n",
       "      <td>Arbre</td>\n",
       "      <td>Jardin</td>\n",
       "      <td>PARIS 7E ARRDT</td>\n",
       "      <td>MAIRIE DU 7E 116 RUE DE GRENELLE PARIS 7E</td>\n",
       "      <td>20</td>\n",
       "      <td>5</td>\n",
       "      <td>NaN</td>\n",
       "      <td>0.0</td>\n",
       "      <td>48.857620</td>\n",
       "      <td>2.320962</td>\n",
       "    </tr>\n",
       "    <tr>\n",
       "      <th>1</th>\n",
       "      <td>Arbre</td>\n",
       "      <td>Jardin</td>\n",
       "      <td>PARIS 7E ARRDT</td>\n",
       "      <td>MAIRIE DU 7E 116 RUE DE GRENELLE PARIS 7E</td>\n",
       "      <td>65</td>\n",
       "      <td>8</td>\n",
       "      <td>A</td>\n",
       "      <td>NaN</td>\n",
       "      <td>48.857656</td>\n",
       "      <td>2.321031</td>\n",
       "    </tr>\n",
       "    <tr>\n",
       "      <th>2</th>\n",
       "      <td>Arbre</td>\n",
       "      <td>Jardin</td>\n",
       "      <td>PARIS 7E ARRDT</td>\n",
       "      <td>MAIRIE DU 7E 116 RUE DE GRENELLE PARIS 7E</td>\n",
       "      <td>90</td>\n",
       "      <td>10</td>\n",
       "      <td>A</td>\n",
       "      <td>NaN</td>\n",
       "      <td>48.857705</td>\n",
       "      <td>2.321061</td>\n",
       "    </tr>\n",
       "    <tr>\n",
       "      <th>3</th>\n",
       "      <td>Arbre</td>\n",
       "      <td>Jardin</td>\n",
       "      <td>PARIS 7E ARRDT</td>\n",
       "      <td>MAIRIE DU 7E 116 RUE DE GRENELLE PARIS 7E</td>\n",
       "      <td>60</td>\n",
       "      <td>8</td>\n",
       "      <td>A</td>\n",
       "      <td>NaN</td>\n",
       "      <td>48.857722</td>\n",
       "      <td>2.321006</td>\n",
       "    </tr>\n",
       "    <tr>\n",
       "      <th>4</th>\n",
       "      <td>Arbre</td>\n",
       "      <td>Jardin</td>\n",
       "      <td>PARIS 17E ARRDT</td>\n",
       "      <td>PARC CLICHY-BATIGNOLLES-MARTIN LUTHER KING</td>\n",
       "      <td>38</td>\n",
       "      <td>0</td>\n",
       "      <td>NaN</td>\n",
       "      <td>NaN</td>\n",
       "      <td>48.890435</td>\n",
       "      <td>2.315289</td>\n",
       "    </tr>\n",
       "  </tbody>\n",
       "</table>\n",
       "</div>"
      ],
      "text/plain": [
       "  type_emplacement domanialite   arrondissement  \\\n",
       "0            Arbre      Jardin   PARIS 7E ARRDT   \n",
       "1            Arbre      Jardin   PARIS 7E ARRDT   \n",
       "2            Arbre      Jardin   PARIS 7E ARRDT   \n",
       "3            Arbre      Jardin   PARIS 7E ARRDT   \n",
       "4            Arbre      Jardin  PARIS 17E ARRDT   \n",
       "\n",
       "                                         lieu  circonference_cm  hauteur_m  \\\n",
       "0   MAIRIE DU 7E 116 RUE DE GRENELLE PARIS 7E                20          5   \n",
       "1   MAIRIE DU 7E 116 RUE DE GRENELLE PARIS 7E                65          8   \n",
       "2   MAIRIE DU 7E 116 RUE DE GRENELLE PARIS 7E                90         10   \n",
       "3   MAIRIE DU 7E 116 RUE DE GRENELLE PARIS 7E                60          8   \n",
       "4  PARC CLICHY-BATIGNOLLES-MARTIN LUTHER KING                38          0   \n",
       "\n",
       "  stade_developpement  remarquable  geo_point_2d_a  geo_point_2d_b  \n",
       "0                 NaN          0.0       48.857620        2.320962  \n",
       "1                   A          NaN       48.857656        2.321031  \n",
       "2                   A          NaN       48.857705        2.321061  \n",
       "3                   A          NaN       48.857722        2.321006  \n",
       "4                 NaN          NaN       48.890435        2.315289  "
      ]
     },
     "execution_count": 58,
     "metadata": {},
     "output_type": "execute_result"
    }
   ],
   "source": [
    "data.drop(['id','numero','complement_addresse','id_emplacement','libelle_francais','genre','espece','variete'], axis=1,inplace=True)\n",
    "data.head()"
   ]
  },
  {
   "cell_type": "code",
   "execution_count": 60,
   "id": "05169d9a-3327-44af-a8b3-4c679e4713f8",
   "metadata": {},
   "outputs": [],
   "source": [
    "zero_counts = (data==0).sum()\n",
    "zero_percentage = (zero_counts / len(data))*100\n",
    "zero_percentage=zero_percentage.sort_values(ascending=False)\n",
    "zero_percentage_df=pd.DataFrame(zero_percentage, columns=['Pourcentage de valeurs égales à zéro'])"
   ]
  },
  {
   "cell_type": "code",
   "execution_count": 62,
   "id": "a58bb089-09e5-47e2-8c1a-1bb78d0073cd",
   "metadata": {},
   "outputs": [
    {
     "data": {
      "text/plain": [
       "Text(95.5815972222222, 0.5, 'Colonnes')"
      ]
     },
     "execution_count": 62,
     "metadata": {},
     "output_type": "execute_result"
    },
    {
     "data": {
      "image/png": "[encoded data removed]",
      "text/plain": [
       "<Figure size 1000x800 with 2 Axes>"
      ]
     },
     "metadata": {},
     "output_type": "display_data"
    }
   ],
   "source": [
    "plt.figure(figsize=(10,8))\n",
    "sns.heatmap(zero_percentage_df, cmap='viridis', annot=True, fmt='.2f')\n",
    "plt.title('Heaatmap des valeurs égales à zéro')\n",
    "plt.ylabel('Colonnes')"
   ]
  },
  {
   "cell_type": "markdown",
   "id": "6b30a111-6085-43a4-89f9-18c2f79ca125",
   "metadata": {},
   "source": [
    "#### Les valeurs impossibles"
   ]
  },
  {
   "cell_type": "code",
   "execution_count": 95,
   "id": "adbd1b2c-7b31-4939-a957-960fca782544",
   "metadata": {},
   "outputs": [
    {
     "name": "stdout",
     "output_type": "stream",
     "text": [
      "Il y a 445 arbres ayant une hauteur de 50 m soit 0.22 % du total des arbres\n",
      "et 39219 arbres ayant une circonference null soit 19.6 % du total des arbres\n"
     ]
    }
   ],
   "source": [
    "max_height=50\n",
    "\n",
    "num_tall_trees = (data['hauteur_m']>max_height).sum()\n",
    "num_tall_trees_null = (data['hauteur_m']==0).sum()\n",
    "print(f\"Il y a {num_tall_trees} arbres ayant une hauteur de {max_height} m soit {((num_tall_trees/dimension[0])*100).round(2)} % du total des arbres\")\n",
    "print(f\"et {num_tall_trees_null} arbres ayant une circonference null soit {((num_tall_trees_null/dimension[0])*100).round(2)} % du total des arbres\")"
   ]
  },
  {
   "cell_type": "code",
   "execution_count": 109,
   "id": "364d8bc7-2b0b-421a-9e50-4ef1e92d5ca1",
   "metadata": {},
   "outputs": [
    {
     "data": {
      "text/plain": [
       "(199692, 10)"
      ]
     },
     "execution_count": 109,
     "metadata": {},
     "output_type": "execute_result"
    }
   ],
   "source": [
    "# on retire donc dans un premier temps la hauteur abérante en considérant un hauteur max de 50 m\n",
    "data = data[data['hauteur_m'] <= max_height]\n",
    "data.shape"
   ]
  },
  {
   "cell_type": "code",
   "execution_count": 111,
   "id": "1a71705e-ab63-41d6-8a14-616e1e9b1306",
   "metadata": {},
   "outputs": [
    {
     "name": "stdout",
     "output_type": "stream",
     "text": [
      "Il y a 79 arbres ayant une circonference de plus de 7.4 m soit 0.04 % du total des arbres\n",
      "et 25867 arbres ayant une circonference null soit 12.92 % du total des arbres\n"
     ]
    }
   ],
   "source": [
    "max_circonference = 740\n",
    "sorted_circonference = (data['circonference_cm']>max_circonference).sum()\n",
    "numb_circonference_null = (data['circonference_cm']==0).sum()\n",
    "\n",
    "print(f\"Il y a {sorted_circonference} arbres ayant une circonference de plus de {max_circonference/100} m soit {((sorted_circonference/dimension[0])*100).round(2)} % du total des arbres\")\n",
    "print(f\"et {numb_circonference_null} arbres ayant une circonference null soit {((numb_circonference_null/dimension[0])*100).round(2)} % du total des arbres\")"
   ]
  },
  {
   "cell_type": "code",
   "execution_count": 115,
   "id": "716b006a-0e93-4e89-9a60-a02433b307d1",
   "metadata": {},
   "outputs": [
    {
     "data": {
      "text/plain": [
       "(199613, 10)"
      ]
     },
     "execution_count": 115,
     "metadata": {},
     "output_type": "execute_result"
    }
   ],
   "source": [
    "# on retire la circonférence supèrieur à max_circonférence.\n",
    "data = data[data['circonference_cm'] <= max_circonference]\n",
    "data.shape"
   ]
  },
  {
   "cell_type": "markdown",
   "id": "44642e5a-3c19-4b8b-ba5c-f845f00d4c38",
   "metadata": {},
   "source": [
    "# Démarche\n",
    "\n",
    "Nous avons un jeu de données fournit par la ville de Paris.\n",
    "\n",
    "## Connaitre notre jeu de données.\n",
    "### On identifie:\n",
    "1. les dimensions\n",
    "2. le type de données\n",
    "3. Les valeurs principales valeurs (Max, min, impossible, abérrantes)\n",
    "\n",
    "#### On remarque:\n",
    "- 200 137 lignes et 18 colonnes (18 variables potenielles à étudier)\n",
    "- On remarque aussi des valeurs Max pour la hauteur de 881818m soit 881.818 kms et circonférence de 250255 cm soit 2502.55m. ce sont des valeurs impossible\n",
    "- Idem pour les valeurs min. Un arbre ne peu pas exister et avoir une hauteur ou une circonférence de zero. Donc se sont des valeurs impossible.\n",
    "- \n",
    "### Valeur nulles\n",
    "- On comptabilise ensuite le nombre de valeurs null pour chaque variables\n",
    "- On réalise une représentation graphique pour visualiser quelles variables ont le plus de valeur nulles ( ici sous forme de heatmap)\n",
    "    - On peut supprimer les colonnes:\n",
    "    - - 'id', 'numero', 'complement_addresse', 'id_emplacement',\n",
    "    - 'libelle_francais','genre','espece','variete'\n",
    "qui sont null quasiement à 100% donc inutile pour nous ou non pertinent pour notre analyse.\n",
    "\n",
    "### Nettoyage des données\n",
    "\n",
    "une fois les colonnes non utilisé supprimées, on traite les valeurs impossible.<br/>\n",
    "<br/>\n",
    "    - La hauteur :<br/>\n",
    "**En 2021 un des arbres le plus haut à Paris faisait 30m**<br/>\n",
    "https://agriculture.gouv.fr/lun-des-plus-grands-arbres-de-paris-veille-sur-le-78-rue-de-varenne<br/>\n",
    "**on peut retrouver une data d'un arbre de 45m en 2006**<br/>\n",
    "https://public.opendatasoft.com/explore/dataset/arbresremarquablesparis2011/table/?flg=fr-fr&sort=arbres_hauteur en m.<br/>\n",
    "On prendra ne hauteur max de 50 m dans notre cas.<br/>\n",
    "<br/>\n",
    "    - La circonférence :<br/>\n",
    "\n",
    "En 2006 la circonférence max des arbres à Paris était de 740 cm<br/>\n",
    "https://public.opendatasoft.com/explore/dataset/arbresremarquablesparis2011/table/?flg=fr-fr&sort=arbres_hauteurenm<br/>\n",
    "https://www.unjourdeplusaparis.caom/paris-vert/arbres-remarquables-paris<br/>\n",
    "\n",
    "Les arbres au dessus seront donc considéré comme des valeurs abérantes.\n",
    "\n",
    "---------------------------------------------------------\n",
    "Prendre la decision des valeurs à garder\n",
    "\n",
    "\n",
    "**4- compte les nombre de valeurs null pour chaque variables**\n",
    "- on calcul leurs représentation en %.\n",
    "- Pour une meilleurs visualisation, on affiche la répartition sous forme de heatmap<br/>\n",
    "\n",
    "**5-représentation des valeurs nulles en heatmap**\n",
    "\n",
    "\n",
    "Après avoir exploré le dataset, on peut réfléchir sur l'approche analytique\n",
    "- on décide de supprimer les colonnes:\n",
    "    \n",
    "- nous allons aussi "
   ]
  },
  {
   "cell_type": "markdown",
   "id": "d853d048-feee-40db-b56a-d5f6e586c11d",
   "metadata": {},
   "source": [
    "## Analyse univariee"
   ]
  },
  {
   "cell_type": "code",
   "execution_count": null,
   "id": "a3c68d3f-ff53-4770-9dc7-5745dced72fe",
   "metadata": {},
   "outputs": [],
   "source": [
    "data.describe()"
   ]
  },
  {
   "cell_type": "code",
   "execution_count": null,
   "id": "085174cd-e217-43b4-93db-8ef8728f6663",
   "metadata": {},
   "outputs": [],
   "source": [
    "data.describe(include='object')"
   ]
  },
  {
   "cell_type": "code",
   "execution_count": null,
   "id": "bfb598f8-794b-48b5-b907-f385bf5c0604",
   "metadata": {},
   "outputs": [],
   "source": [
    "qualitative_vars = ['type_emplacement','domanialite','arrondissement','lieu','genre','stade_developpement']\n",
    "quantitative_vars = ['circonference_cm','hauteur_m','geo_point_2d_a','geo_point_2d_b']"
   ]
  },
  {
   "cell_type": "code",
   "execution_count": null,
   "id": "8c0b9ee7-bc69-481c-b5e2-19b22513be7d",
   "metadata": {},
   "outputs": [],
   "source": [
    "type_counts = data['type_emplacement'].value_counts() # Répartissions des type d'emplacement\n",
    "arrondissement_counts = data['arrondissement'].value_counts() # Distribution par arrondissement\n",
    "stade_developpement_counts = data['stade_developpement'].value_counts() # Distribution par arrondissement"
   ]
  },
  {
   "cell_type": "code",
   "execution_count": null,
   "id": "96f1d79d-9720-4073-8728-27927e64bb3d",
   "metadata": {},
   "outputs": [],
   "source": [
    "fig, axs = plt.subplots(4,2,figsize=(16,17))\n",
    "\n",
    "axs[0,0].pie(type_counts,labels=type_counts.index, autopct='%1.1f%%', startangle=90)\n",
    "axs[0,0].axis('equal')\n",
    "axs[0,0].set_title('Répartitions des type d\\'emplacement')\n",
    "\n",
    "axs[0,1].bar(arrondissement_counts.index, arrondissement_counts)\n",
    "axs[0,1].set_title('Distribution des arrondissements')\n",
    "axs[0,1].set_xlabel('Arrondissement')\n",
    "axs[0,1].set_ylabel('Nombre')\n",
    "axs[0,1].set_xticks(range(len(arrondissement_counts)))\n",
    "axs[0,1].set_xticklabels(arrondissement_counts.index, rotation=45, ha='right')\n",
    "\n",
    "axs[1,0].bar(stade_developpement_counts.index, stade_developpement_counts)\n",
    "axs[1,0].set_title('Distribution des stades de developpement')\n",
    "\n",
    "sns.kdeplot(data['circonference_cm'], ax=axs[1,1], fill=True)\n",
    "axs[1,1].set_title('Densité de la circonference des arbres')\n",
    "axs[1,1].set_xlabel('circonference des arbres (cm)')\n",
    "axs[1,1].set_ylabel('Densité')\n",
    "\n",
    "sns.kdeplot(data['hauteur_m'], ax=axs[2,0], fill=True)\n",
    "axs[2,0].set_title('Densité des arbres en hauteur')\n",
    "axs[2,0].set_xlabel('Hauteur d\\'arbre (m)')\n",
    "axs[2,0].set_ylabel('Densité')\n",
    "\n",
    "sns.boxplot(data['geo_point_2d_a'], ax=axs[2,1])\n",
    "axs[2,1].set_title('Boite à moustache latitude des arbres')\n",
    "axs[2,1].set_title('Latitude')\n",
    "\n",
    "sns.boxplot(data['geo_point_2d_b'], ax=axs[3,0], orient='h')\n",
    "axs[3,0].set_title('Boite à moustache longitude des arbres')\n",
    "axs[3,0].set_title('Longitude')\n",
    "\n",
    "fig.delaxes(axs[3,1])\n",
    "\n",
    "plt.subplots_adjust(wspace=0.4, hspace=0.9)\n",
    "plt.show()"
   ]
  },
  {
   "cell_type": "code",
   "execution_count": null,
   "id": "268214a4-f824-4ab7-a5b4-321862b7339a",
   "metadata": {},
   "outputs": [],
   "source": [
    "hauteur_max=data['hauteur_m'].max()\n",
    "hauteur_min=data['hauteur_m'].min()\n",
    "print(f'hauteur min {hauteur_min} m, et hauteur max {hauteur_max} m')\n",
    "Nb_hauteur_null = (data['hauteur_m']==0).sum()\n",
    "print(f'nombres de hauteur à zero {Nb_hauteur_null}')"
   ]
  },
  {
   "cell_type": "code",
   "execution_count": null,
   "id": "944b1da2-fe5f-47dd-95c3-1e6dc08c0d21",
   "metadata": {},
   "outputs": [],
   "source": [
    "circonference_max=data['circonference_cm'].max()\n",
    "circonference_min=data['circonference_cm'].min()\n",
    "print(f'circonference min {circonference_min} cm, et circonference max {circonference_max} cm')\n",
    "Nb_circonf_null = (data['circonference_cm']==0).sum()\n",
    "print(f'nombres de circonférence à zero {Nb_circonf_null}')"
   ]
  },
  {
   "cell_type": "markdown",
   "id": "048eea6e-8130-426d-9dc9-621364bf8dc6",
   "metadata": {},
   "source": [
    "## Detection et traitement de valeurs aberrantes"
   ]
  },
  {
   "cell_type": "markdown",
   "id": "36d45d51-9cc1-4cd6-a9ca-cc4c23d8d638",
   "metadata": {},
   "source": [
    "### Detection des valeurs null"
   ]
  },
  {
   "cell_type": "code",
   "execution_count": null,
   "id": "54a00598-5e03-4d97-bf48-dbef8b4e51e3",
   "metadata": {},
   "outputs": [],
   "source": [
    "# on transforme ces résultat en pourcentage pour une meilleur lecture\n",
    "non_null_percentage = (data.isnull().sum()/len(data))*100\n",
    "print(f\"\\nNombre de données null en % :\\n{non_null_percentage.round(2)}\")"
   ]
  },
  {
   "cell_type": "markdown",
   "id": "4715a9b5-152c-4007-92f6-77202043581c",
   "metadata": {},
   "source": [
    "### Detection des valeurs abérantes pour la hauteur"
   ]
  },
  {
   "cell_type": "markdown",
   "id": "2468f88d-e377-4420-81f0-e998aee185e7",
   "metadata": {},
   "source": [
    "### Utilisation de la méthode interquartilles"
   ]
  },
  {
   "cell_type": "code",
   "execution_count": null,
   "id": "502ec021-1be8-460c-a32f-66076879563a",
   "metadata": {},
   "outputs": [],
   "source": [
    "def detect_outliers_(data, column):\n",
    "    Q1=data[column].quantile(0.25)\n",
    "    Q3=data[column].quantile(0.75)\n",
    "    IQR = Q3 -Q1\n",
    "    lower_limit = Q1-1.5 * IQR\n",
    "    upper_limit = Q3 + 1.5 *IQR\n",
    "    outliers = (data[column]<lower_limit) | (data[column]>upper_limit)\n",
    "    return outliers, lower_limit, upper_limit"
   ]
  },
  {
   "cell_type": "markdown",
   "id": "71e239a2-7bf2-4f9f-a200-eb10c3f5594a",
   "metadata": {},
   "source": [
    "commencons par la hauteur et affichons les 10 valeurs les plus grandes pour determiner lesquels des valeur sont \"Impossible\", \"abérantes\" ou \"athypique\"<br/>\n",
    "**En 2021 un des arbres le plus haut à Paris faisait 30m**<br/>\n",
    "https://agriculture.gouv.fr/lun-des-plus-grands-arbres-de-paris-veille-sur-le-78-rue-de-varenne<br/>\n",
    "**on peut retrouver une data d'un arbre de 45m en 2006**<br/>\n",
    "https://public.opendatasoft.com/explore/dataset/arbresremarquablesparis2011/table/?flg=fr-fr&sort=arbres_hauteurenm"
   ]
  },
  {
   "cell_type": "code",
   "execution_count": null,
   "id": "e1d7ae29-9818-4c2a-ada3-2d45b4f110ce",
   "metadata": {},
   "outputs": [],
   "source": [
    "columnsToDisplay = ['circonference_cm', 'hauteur_m','geo_point_2d_a','geo_point_2d_b']"
   ]
  },
  {
   "cell_type": "code",
   "execution_count": null,
   "id": "98698758-8064-43b0-866f-f793496aac6b",
   "metadata": {},
   "outputs": [],
   "source": [
    "outliers_hauteur, lower_hauteur, upper_hauteur = detect_outliers_(data,'hauteur_m')\n",
    "print(f'Limites pour hauteur_m: inférieure = {lower_hauteur}, supérieure = {upper_hauteur}')"
   ]
  },
  {
   "cell_type": "code",
   "execution_count": null,
   "id": "d215548e-7c47-44c8-a135-d98bb753af33",
   "metadata": {},
   "outputs": [],
   "source": [
    "# on retire donc dans un premier temps la hauteur abérante en considérant un hauteur max de 50 m\n",
    "data = data[data['hauteur_m'] <= max_height]\n",
    "data.describe()"
   ]
  },
  {
   "cell_type": "markdown",
   "id": "55e849f8-7410-4fad-94c6-0160287dad7a",
   "metadata": {},
   "source": [
    "#### Traitement des valeurs abérantes pour la hauteur"
   ]
  },
  {
   "cell_type": "code",
   "execution_count": null,
   "id": "951b0c04-68af-4969-b691-b8b1857de8d8",
   "metadata": {},
   "outputs": [],
   "source": [
    "#On va remplacer la valeur des arbres ayant une hauteur null par la  moyenne de la hauteur des arbres ayant une hauteur non null\n",
    "\n",
    "# on selectionne les arbres ayant une hauteur non null\n",
    "non_hauteur_null_list = data[data['hauteur_m'] != 0]\n",
    "\n",
    "# on calcul la hauteur moyenne\n",
    "mean_hauteur = non_hauteur_null_list['hauteur_m'].mean()\n",
    "print(f\"Hauteur moyenne calculée : {mean_hauteur.round(3)} m\")\n",
    "\n",
    "# On remplace la valeur de la hauteur par la moyenne caclulée\n",
    "data.loc[data['hauteur_m']==0,'hauteur_m']= mean_hauteur\n",
    "data.describe()"
   ]
  },
  {
   "cell_type": "markdown",
   "id": "47e36b84-91f1-4b78-a073-7cdf820e5b4b",
   "metadata": {},
   "source": [
    "### Detection des valeurs abérantes pour la circonférence"
   ]
  },
  {
   "cell_type": "code",
   "execution_count": null,
   "id": "a0f96e62-ea13-4350-934f-d5273d2de347",
   "metadata": {},
   "outputs": [],
   "source": [
    "outliers_circonference, lower_circonference, upper_circonference = detect_outliers_(data,'circonference_cm')\n",
    "print(f'Limites pour circonference: inférieure = {lower_circonference}, supérieure = {upper_circonference}')"
   ]
  },
  {
   "cell_type": "markdown",
   "id": "a1dcd920-9fb0-4d9c-9a05-5b0620eabc1a",
   "metadata": {},
   "source": [
    "En 2006 la circonférence max des arbres à Paris était de 740 cm<br/>\n",
    "https://public.opendatasoft.com/explore/dataset/arbresremarquablesparis2011/table/?flg=fr-fr&sort=arbres_hauteurenm<br/>\n",
    "https://www.unjourdeplusaparis.caom/paris-vert/arbres-remarquables-paris<br/>\n",
    "\n",
    "Les arbres au dessus seront donc considéré comme des valeurs abérantes."
   ]
  },
  {
   "cell_type": "code",
   "execution_count": 89,
   "id": "3d781051-5f68-415d-8a30-6ee33bbe2d21",
   "metadata": {},
   "outputs": [
    {
     "ename": "NameError",
     "evalue": "name 'upper_circonference' is not defined",
     "output_type": "error",
     "traceback": [
      "\u001b[0;31m---------------------------------------------------------------------------\u001b[0m",
      "\u001b[0;31mNameError\u001b[0m                                 Traceback (most recent call last)",
      "Cell \u001b[0;32mIn[89], line 1\u001b[0m\n\u001b[0;32m----> 1\u001b[0m max_circonference \u001b[38;5;241m=\u001b[39m \u001b[43mupper_circonference\u001b[49m\n\u001b[1;32m      2\u001b[0m sorted_circonference \u001b[38;5;241m=\u001b[39m (data[\u001b[38;5;124m'\u001b[39m\u001b[38;5;124mcirconference_cm\u001b[39m\u001b[38;5;124m'\u001b[39m]\u001b[38;5;241m>\u001b[39mmax_circonference)\u001b[38;5;241m.\u001b[39msum()\n\u001b[1;32m      3\u001b[0m numb_circonference_null \u001b[38;5;241m=\u001b[39m (data[\u001b[38;5;124m'\u001b[39m\u001b[38;5;124mcirconference_cm\u001b[39m\u001b[38;5;124m'\u001b[39m]\u001b[38;5;241m==\u001b[39m\u001b[38;5;241m0\u001b[39m)\u001b[38;5;241m.\u001b[39msum()\n",
      "\u001b[0;31mNameError\u001b[0m: name 'upper_circonference' is not defined"
     ]
    }
   ],
   "source": [
    "max_circonference = upper_circonference\n",
    "sorted_circonference = (data['circonference_cm']>max_circonference).sum()\n",
    "numb_circonference_null = (data['circonference_cm']==0).sum()\n",
    "\n",
    "print(f\"Il y a {sorted_circonference} arbres ayant une circonference de plus de {max_circonference/100} m soit {((sorted_circonference/dimension[0])*100).round(2)} % du total des arbres\")\n",
    "print(f\"et {numb_circonference_null} arbres ayant une circonference null soit {((numb_circonference_null/dimension[0])*100).round(2)} % du total des arbres\")"
   ]
  },
  {
   "cell_type": "markdown",
   "id": "7e6ad70c-60e2-4335-a02a-001b9036f193",
   "metadata": {},
   "source": [
    "#### Traitement des valeurs abérantes pour la circonférence"
   ]
  },
  {
   "cell_type": "code",
   "execution_count": null,
   "id": "159d484a-1c9c-478a-a10c-7f5ae23c39f3",
   "metadata": {},
   "outputs": [],
   "source": [
    "# On peut raisonnablement supprimer du dataset les arbres ayant une circonférence supérieurs à max_circonference\n",
    "data = data[data['circonference_cm'] <= max_circonference]\n",
    "\n",
    "# on selectionne les arbres ayant une circonference non null\n",
    "non_circonference_null_list = data[data['circonference_cm'] != 0]\n",
    "\n",
    "# on calcul la circonference moyenne\n",
    "mean_circonference = non_circonference_null_list['circonference_cm'].mean()\n",
    "print(f\"Circonference moyenne calculée : {mean_circonference.round(3)} cm\")\n",
    "\n",
    "# On remplace la valeur de la circonference pour les indivdus ayant une valeur null par la moyenne caclulée\n",
    "data['circonference_cm']= data['circonference_cm'].replace(0, mean_hauteur)"
   ]
  },
  {
   "cell_type": "code",
   "execution_count": null,
   "id": "62d2e823-ebbd-481f-9502-2805e4d2d0b8",
   "metadata": {},
   "outputs": [],
   "source": [
    "data.describe()"
   ]
  },
  {
   "cell_type": "markdown",
   "id": "e701ddfe-8a30-4b5e-b240-b832fd46cb0c",
   "metadata": {},
   "source": [
    "### Traitement des valeur de stade de developpement"
   ]
  },
  {
   "cell_type": "code",
   "execution_count": null,
   "id": "986be036-d862-4f62-9ca7-fa61d16050f2",
   "metadata": {},
   "outputs": [],
   "source": [
    "# On liste et on affiche les valeurs possible pour le stade de developpement\n",
    "unique_stade_developpement = data['stade_developpement'].unique()\n",
    "print(f'List des valeurs possible dans la colonne stade de développement {unique_stade_developpement}')\n",
    "\n",
    "# On compte les valeur null dans la colonne stade de developpement\n",
    "total_nan = data['stade_developpement'].isnull().sum()\n",
    "print(f'total nan {total_nan}')\n",
    "\n",
    "# On compte le nombre pour chaque stade\n",
    "stade_developpement_counts = data['stade_developpement'].value_counts()\n",
    "print(f'Nombre d\\individus pour chaque cas dans {stade_developpement_counts}')\n"
   ]
  },
  {
   "cell_type": "code",
   "execution_count": null,
   "id": "8ceb291c-b21a-4107-a31d-fabe8c10513c",
   "metadata": {},
   "outputs": [],
   "source": [
    "# Maintenant que l'on a 100% des valeurs hauteur_m et circonference_m dans notre dataSet\n",
    "# On veut compléter la colonne stade de développement pour chaque arbres de notre dataSet\n",
    "# Une approche simple consiste a determnier le ratio H/D pour chaque individus puis on définit le ratio moyen pour chaque stade_developpemt\n",
    "data['ratio_H_D'] = ((data['hauteur_m']*100)/(data['circonference_cm'])).round(2)\n",
    "data_filtered = data.dropna(subset=['stade_developpement'])\n",
    "stats = data_filtered.groupby('stade_developpement').agg({\n",
    "    'hauteur_m': ['max', 'min', 'mean'],\n",
    "   'circonference_cm': ['max', 'min', 'mean'],\n",
    "  'ratio_H_D': ['max', 'min', 'mean']\n",
    "}).reset_index()\n",
    "print(stats)"
   ]
  },
  {
   "cell_type": "code",
   "execution_count": null,
   "id": "f2055616-d392-47f4-b613-b1055318de5c",
   "metadata": {},
   "outputs": [],
   "source": [
    "# on constate une coherence. Plus notre arbre est jeune plus le ratio H/D est grand.\n",
    "# Cela est due à la pousse des arbres qui dans un premier temps grandissent plus qu'il ne grossisse\n",
    "# On extrait les ratio poyen de chaque stade de developpement\n",
    "\n",
    "mean_ratios = stats.set_index('stade_developpement')['ratio_H_D']['mean']\n",
    "print(mean_ratios)"
   ]
  },
  {
   "cell_type": "code",
   "execution_count": null,
   "id": "03837672-2a74-4cbc-81ff-76049073bf9c",
   "metadata": {},
   "outputs": [],
   "source": [
    "def impute_stade_developppement(row,mean_ratios):\n",
    "    if pd.isna(row['stade_developpement']):\n",
    "        if row['ratio_H_D']<=mean_ratios['M']:\n",
    "            return 'M'\n",
    "        elif row['ratio_H_D']<=mean_ratios['A']:\n",
    "            return 'A'\n",
    "        elif row['ratio_H_D']<= mean_ratios['JA']:\n",
    "            return 'JA'\n",
    "        else:\n",
    "            return 'J'\n",
    "    else:\n",
    "        return row['stade_developpement']"
   ]
  },
  {
   "cell_type": "code",
   "execution_count": null,
   "id": "4777f4f0-47e1-4098-a60c-3eb0787dbc64",
   "metadata": {},
   "outputs": [],
   "source": [
    "data_copy = data.copy()\n",
    "data_copy['stade_developpement'] = data.apply(impute_stade_developppement, axis =1, mean_ratios = mean_ratios)\n",
    "data_copy.info()"
   ]
  },
  {
   "cell_type": "code",
   "execution_count": null,
   "id": "ba0b4dc2-e371-4c84-85e9-3b63c7c5ae49",
   "metadata": {},
   "outputs": [],
   "source": [
    "matures = data_copy[data_copy['stade_developpement']=='M']\n",
    "adultes = data_copy[data_copy['stade_developpement']=='A']\n",
    "jeunes_adultes = data_copy[data_copy['stade_developpement']=='JA']\n",
    "jeunes = data_copy[data_copy['stade_developpement']=='J']"
   ]
  },
  {
   "cell_type": "code",
   "execution_count": null,
   "id": "0a2bfcd9-5785-4acb-9bd5-473fe0a38cb8",
   "metadata": {},
   "outputs": [],
   "source": [
    "# Compter le nombre d'arbres par stade de développement et par quartier\n",
    "matures_count = matures['arrondissement'].value_counts().reset_index()\n",
    "matures_count.columns = ['arrondissement', 'nombre_matures']\n",
    "\n",
    "adultes_count = adultes['arrondissement'].value_counts().reset_index()\n",
    "adultes_count.columns = ['arrondissement', 'nombre_adultes']\n",
    "\n",
    "jeunes_adultes_count = jeunes_adultes['arrondissement'].value_counts().reset_index()\n",
    "jeunes_adultes_count.columns = ['arrondissement', 'nombre_jeunes_adultes']\n",
    "\n",
    "jeunes_count = jeunes['arrondissement'].value_counts().reset_index()\n",
    "jeunes_count.columns = ['arrondissement', 'nombre_jeunes']"
   ]
  },
  {
   "cell_type": "code",
   "execution_count": null,
   "id": "30b5ac96-bc0a-4759-af39-664425a4c441",
   "metadata": {},
   "outputs": [],
   "source": [
    "# On fusionne chaque données par quartier\n",
    "merged_data = pd.merge(matures_count, adultes_count, on='arrondissement', how='outer')\n",
    "merged_data = pd.merge(merged_data, jeunes_adultes_count, on='arrondissement', how='outer')\n",
    "merged_data = pd.merge(merged_data, jeunes_count, on='arrondissement', how='outer')"
   ]
  },
  {
   "cell_type": "code",
   "execution_count": null,
   "id": "7a66c3dd-b837-4787-92c3-42a68d7fdd8f",
   "metadata": {},
   "outputs": [],
   "source": [
    "plt.figure(figsize=(12,8))\n",
    "heatmap_data = merged_data.set_index('arrondissement')\n",
    "sns.heatmap(heatmap_data, annot=True, fmt=\"d\", linewidth=.1)\n",
    "plt.title('Heatmap des arbres par quartier')\n",
    "plt.xlabel('Stade de developpement')\n",
    "plt.ylabel('Arrondissement')\n",
    "plt.show()"
   ]
  },
  {
   "cell_type": "code",
   "execution_count": null,
   "id": "e9fb0db5-84ed-4415-9e04-ace8ba609115",
   "metadata": {},
   "outputs": [],
   "source": [
    "# On peut classer les arbres comme suit:\n",
    "#https://bauchery.fr/blog/72_guide-des-tailles-et-qualite-des-plants.html#:~:text=%2D%20Un%20baliveau%20est%20un%20arbre,2%20m%20et%202.50%20m.&text=Ce%20rapport%20est%20variable%20suivant,plus%20grand%20qu'un%20noyer.\n",
    "# Jeune ou baliveau H < 2.5m et circonference ~ 6cm\n",
    "# Jeune Adulte 2.5m < H < 4m et circonference < 15cm\n",
    "# data_min=data[(data['circonference_cm']<=16) & (data['hauteur_m']< 4) & (data['stade_developpement'].isnull())]\n",
    "# data_min.describe()"
   ]
  },
  {
   "cell_type": "code",
   "execution_count": null,
   "id": "7be97e59-fccb-42c4-ac41-816127ff4d00",
   "metadata": {},
   "outputs": [],
   "source": []
  }
 ],
 "metadata": {
  "kernelspec": {
   "display_name": "Python (P2_env)",
   "language": "python",
   "name": "p2_env"
  },
  "language_info": {
   "codemirror_mode": {
    "name": "ipython",
    "version": 3
   },
   "file_extension": ".py",
   "mimetype": "text/x-python",
   "name": "python",
   "nbconvert_exporter": "python",
   "pygments_lexer": "ipython3",
   "version": "3.11.7"
  }
 },
 "nbformat": 4,
 "nbformat_minor": 5
}
