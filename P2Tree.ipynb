{
 "cells": [
  {
   "cell_type": "code",
   "execution_count": 3,
   "id": "34cf6210-f4e6-4bf7-a396-07c93960c8dc",
   "metadata": {},
   "outputs": [],
   "source": [
    "import pandas as pd"
   ]
  },
  {
   "cell_type": "code",
   "execution_count": 35,
   "id": "d4d52d0f-cd7b-4da0-8128-654e160b5506",
   "metadata": {},
   "outputs": [
    {
     "name": "stdout",
     "output_type": "stream",
     "text": [
      "      id type_emplacement domanialite   arrondissement complement_addresse  \\\n",
      "0  99874            Arbre      Jardin   PARIS 7E ARRDT                 NaN   \n",
      "1  99875            Arbre      Jardin   PARIS 7E ARRDT                 NaN   \n",
      "2  99876            Arbre      Jardin   PARIS 7E ARRDT                 NaN   \n",
      "3  99877            Arbre      Jardin   PARIS 7E ARRDT                 NaN   \n",
      "4  99878            Arbre      Jardin  PARIS 17E ARRDT                 NaN   \n",
      "5  99879            Arbre      Jardin  PARIS 17E ARRDT                 NaN   \n",
      "6  99880            Arbre      Jardin  PARIS 17E ARRDT                 NaN   \n",
      "7  99881            Arbre      Jardin  PARIS 16E ARRDT                 NaN   \n",
      "8  99882            Arbre      Jardin  PARIS 16E ARRDT                 NaN   \n",
      "9  99883            Arbre      Jardin  PARIS 16E ARRDT                 NaN   \n",
      "\n",
      "   numero                                               lieu id_emplacement  \\\n",
      "0     NaN          MAIRIE DU 7E 116 RUE DE GRENELLE PARIS 7E             19   \n",
      "1     NaN          MAIRIE DU 7E 116 RUE DE GRENELLE PARIS 7E             20   \n",
      "2     NaN          MAIRIE DU 7E 116 RUE DE GRENELLE PARIS 7E             21   \n",
      "3     NaN          MAIRIE DU 7E 116 RUE DE GRENELLE PARIS 7E             22   \n",
      "4     NaN         PARC CLICHY-BATIGNOLLES-MARTIN LUTHER KING       000G0037   \n",
      "5     NaN         PARC CLICHY-BATIGNOLLES-MARTIN LUTHER KING       000G0036   \n",
      "6     NaN         PARC CLICHY-BATIGNOLLES-MARTIN LUTHER KING       000G0035   \n",
      "7     NaN  SQUARE ALEXANDRE ET RENE PARODI / 1 PLACE DE L...             35   \n",
      "8     NaN           JARDIN DE L AVENUE FOCH / 10 AVENUE FOCH         802008   \n",
      "9     NaN           JARDIN DE L AVENUE FOCH / 10 AVENUE FOCH         802009   \n",
      "\n",
      "  libelle_francais      genre         espece variete  circonference_cm  \\\n",
      "0       Marronnier   Aesculus  hippocastanum     NaN                20   \n",
      "1               If      Taxus        baccata     NaN                65   \n",
      "2               If      Taxus        baccata     NaN                90   \n",
      "3           Erable       Acer        negundo     NaN                60   \n",
      "4     Arbre à miel  Tetradium      daniellii     NaN                38   \n",
      "5     Arbre à miel  Tetradium      daniellii     NaN                38   \n",
      "6     Arbre à miel  Tetradium      daniellii     NaN                37   \n",
      "7          Platane   Platanus    x hispanica     NaN               260   \n",
      "8          Sophora    Sophora       japonica     NaN               145   \n",
      "9          Sophora    Sophora       japonica     NaN               135   \n",
      "\n",
      "   hauteur_m stade_developpement  remarquable  geo_point_2d_a  geo_point_2d_b  \n",
      "0          5                 NaN          0.0       48.857620        2.320962  \n",
      "1          8                   A          NaN       48.857656        2.321031  \n",
      "2         10                   A          NaN       48.857705        2.321061  \n",
      "3          8                   A          NaN       48.857722        2.321006  \n",
      "4          0                 NaN          NaN       48.890435        2.315289  \n",
      "5          0                 NaN          NaN       48.890470        2.315228  \n",
      "6          0                 NaN          NaN       48.890504        2.315168  \n",
      "7         17                 NaN          NaN       48.876722        2.280222  \n",
      "8         14                   A          0.0       48.871990        2.275814  \n",
      "9         10                   A          0.0       48.872046        2.275752  \n"
     ]
    }
   ],
   "source": [
    "data= pd.read_csv(\"datas/p2-arbres-fr.csv\", sep=\";\") #chargement du fichier CSV dans la variables data\n",
    "print(data.head(10)) #Affiche les 10 première ligne du fichier pour vérifier que ce dernier est bien chargé"
   ]
  },
  {
   "cell_type": "code",
   "execution_count": null,
   "id": "115553c7-7cbc-4c4f-9052-59416fb443e1",
   "metadata": {},
   "outputs": [],
   "source": []
  }
 ],
 "metadata": {
  "kernelspec": {
   "display_name": "Python (P2_env)",
   "language": "python",
   "name": "p2_env"
  },
  "language_info": {
   "codemirror_mode": {
    "name": "ipython",
    "version": 3
   },
   "file_extension": ".py",
   "mimetype": "text/x-python",
   "name": "python",
   "nbconvert_exporter": "python",
   "pygments_lexer": "ipython3",
   "version": "3.11.7"
  }
 },
 "nbformat": 4,
 "nbformat_minor": 5
}
