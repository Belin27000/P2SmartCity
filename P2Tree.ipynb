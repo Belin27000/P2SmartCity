{
 "cells": [
  {
   "cell_type": "markdown",
   "id": "73200699-87a4-4ac9-b6e1-98cd888f6217",
   "metadata": {},
   "source": [
    "# Ce projet fonctionne avec les versions des package suivants:\n",
    "- pandas 2.2.2\n",
    "- matplotlib 3.9.0\n",
    "- seaborn 0.13.2\n",
    "- folium 0.17.0\n",
    "- geopandas 1.0.1\n",
    "- shapely 2.0.5"
   ]
  },
  {
   "cell_type": "markdown",
   "id": "44642e5a-3c19-4b8b-ba5c-f845f00d4c38",
   "metadata": {},
   "source": [
    "# Démarche\n",
    "\n",
    "Nous avons un jeu de données fournit par la ville de Paris.\n",
    "\n",
    "## Connaitre notre jeu de données.\n",
    "### On identifie:\n",
    "1. les dimensions du dataset\n",
    "2. le type de données\n",
    "3. Les valeurs principales valeurs (Max, min, impossible, abérrantes)\n",
    "\n",
    "### Approche:\n",
    "Notre dataset étant un dataset des arbres de Paris, nous nous concentrons pour le nettoage de données (valeurs impossible et abérrantes) sur les dimensions des arbres(hauteur, circonférences).\n",
    "\n",
    "#### On remarque:\n",
    "- 200 137 lignes et 18 colonnes (18 variables potenielles à étudier)\n",
    "- On remarque aussi des valeurs Max pour la hauteur de 881818m soit 881.818 kms et circonférence de 250255 cm soit 2502.55m. ce sont des valeurs impossible\n",
    "- Idem pour les valeurs min. Un arbre ne peu pas exister et avoir une hauteur ou une circonférence de zero. Donc se sont des valeurs impossible.\n",
    "\n",
    "### Valeur nulles\n",
    "- On comptabilise ensuite le nombre de valeurs null pour chaque variables\n",
    "- On réalise une représentation graphique pour visualiser quelles variables ont le plus de valeur nulles ( ici sous forme de heatmap)\n",
    "    - On peut supprimer les colonnes:\n",
    "    - 'id', 'numero', 'complement_addresse', 'id_emplacement',\n",
    "    - 'libelle_francais','genre','espece','variete'\n",
    "qui sont null quasiement à 100% donc inutile pour nous ou non pertinent pour notre analyse.\n",
    "\n",
    "### Nettoyage des données\n",
    "\n",
    "une fois les colonnes non utilisé supprimées, on traite les valeurs impossible.<br/>\n",
    "<br/>\n",
    "#### Valeurs impossibles<br/>\n",
    "- La hauteur :<br/>\n",
    "Detailer les pourquoi des valeurs imossible\n",
    "**En 2021 un des arbres le plus haut à Paris faisait 30m**<br/>\n",
    "https://agriculture.gouv.fr/lun-des-plus-grands-arbres-de-paris-veille-sur-le-78-rue-de-varenne<br/>\n",
    "**on peut retrouver une data d'un arbre de 45m en 2006**<br/>\n",
    "https://public.opendatasoft.com/explore/dataset/arbresremarquablesparis2011/table/?flg=fr-fr&sort=arbres_hauteur en m.<br/>\n",
    "On prendra ne hauteur max de 50 m dans notre cas.<br/>\n",
    "<br/>\n",
    "- La circonférence :<br/>\n",
    "**En 2006 la circonférence max des arbres à Paris était de 740 cm**<br/>\n",
    "https://public.opendatasoft.com/explore/dataset/arbresremarquablesparis2011/table/?flg=fr-fr&sort=arbres_hauteurenm<br/>\n",
    "https://www.unjourdeplusaparis.caom/paris-vert/arbres-remarquables-paris<br/>\n",
    "\n",
    "Les arbres au dessus seront donc considéré comme des valeurs impossibles.\n",
    "\n",
    "- il s'agit là d'une règle de validation Simples: On définit une valeur maximum et minimum à ne pas dépasser.\n",
    "\n",
    "\n",
    "#### Valeurs abérrantes<br/>\n",
    "\n",
    "On utilise la méthode des écarts interquatile (IQR)\n",
    "\n",
    "Pour identifer nos outliers, on affiche un boxplot de la hauteur et la circonférence avant et après.\n",
    "\n",
    "### Analyse univariées\n",
    "\n",
    "Maintenant que notre dataset est nettoyé de toute les valeurs impossible ainsi que des outliers, on peut travailler sur une analyse univarié. \n",
    "\n",
    "On réalise une analise univarié naive c'est à dire afficher les variable sous forme de graphe une à une pour determiner ensuite notre cible.\n",
    "\n",
    "### Analyse bivariées\n",
    "\n",
    "On réalise ensuite une matrice de corrélation pour comprendre le lien entre nos variables\n",
    "La première matrice .corr() permet de valider la correlaion entre les variables quantitative (numerique).\n",
    "\n",
    "La matrice de correlation montre un lien entre hauteur et circonférence\n",
    "\n",
    "1. Variables Quantitatives :\n",
    "\n",
    "- circonference_cm et hauteur_m ont une forte corrélation.\n",
    "- Les autres associations entre variables quantitatives et qualitatives montrent des valeurs modérées ou élevées, ce qui mérite une attention particulière.\n",
    "\n",
    "2. Variables Qualitatives :\n",
    "\n",
    "- stade_developpement, domanialite, et remarquable montrent des associations élevées entre elles (valeurs proches de 1).\n",
    "\n",
    "3. Variables Géographiques :\n",
    "\n",
    "- arrondissement montre des associations modérées avec stade_developpement et domanialite.\n",
    "\n",
    "### Cible d'Étude\n",
    "\n",
    "Pour améliorer les tournées des agents d'entretien, nous devons cibler les variables qui influencent significativement la tâche d'entretien.\n",
    "\n",
    "cibles potentielles:\n",
    "- Variables Géographiques : arrondissement\n",
    "- Caractéristiques des Arbres : circonference_cm et hauteur_m\n",
    "- Stade de Développement : stade_developpement\n",
    "- Domanialité : domanialite\n",
    "\n",
    "### Proposition d'Améliorations\n",
    "\n",
    "1. Analyse des Variables Géographiques :\n",
    "\n",
    "- Arrondissement : La répartition des arbres par arrondissement peut indiquer les zones nécessitant plus d'attention.\n",
    "\n",
    "2. Analyse des Caractéristiques des Arbres :\n",
    "\n",
    "- Circonférence et Hauteur : Les arbres de grande taille peuvent nécessiter plus de temps pour l'entretien.\n",
    "\n",
    "3. Analyse des Stades de Développement et Domanialité :\n",
    "\n",
    "- Comprendre la distribution des stades de développement et des domanialités par arrondissement peut aider à prioriser les tournées."
   ]
  },
  {
   "cell_type": "markdown",
   "id": "a363a946-bc5e-4dde-8285-511efe6f5ef2",
   "metadata": {
    "jp-MarkdownHeadingCollapsed": true
   },
   "source": [
    "## Ojectifs:\n",
    "- Réaliser une analyse de données afin d'optimiser les tournées des personne d'entretien"
   ]
  },
  {
   "cell_type": "markdown",
   "id": "434e4dab-facc-4e1c-860f-fd002dbf2a0b",
   "metadata": {},
   "source": [
    "## Installation Package"
   ]
  },
  {
   "cell_type": "code",
   "execution_count": null,
   "id": "34cf6210-f4e6-4bf7-a396-07c93960c8dc",
   "metadata": {},
   "outputs": [],
   "source": [
    "import numpy as np\n",
    "import pandas as pd\n",
    "\n",
    "import seaborn as sns\n",
    "import matplotlib.pyplot as plt\n",
    "\n",
    "import folium\n",
    "import geopandas as gpd\n",
    "from shapely.geometry import Point"
   ]
  },
  {
   "cell_type": "markdown",
   "id": "7c86b867-2021-4e74-af02-60fb40c4e21d",
   "metadata": {},
   "source": [
    "## Chargement du DataSet à partir du fichier CSV"
   ]
  },
  {
   "cell_type": "code",
   "execution_count": null,
   "id": "d4d52d0f-cd7b-4da0-8128-654e160b5506",
   "metadata": {},
   "outputs": [],
   "source": [
    "data= pd.read_csv(\"datas/p2-arbres-fr.csv\", sep=\";\") #chargement du fichier CSV dans la variables data"
   ]
  },
  {
   "cell_type": "markdown",
   "id": "0e207c9d-83d7-4ca6-91fc-4d8c71b35cc3",
   "metadata": {},
   "source": [
    "## Analyse du jeu de données"
   ]
  },
  {
   "cell_type": "markdown",
   "id": "023b2dc6-5872-42ce-b056-cc3ca2272d90",
   "metadata": {},
   "source": [
    "### Identifier les types de données"
   ]
  },
  {
   "cell_type": "markdown",
   "id": "ed2bf07e-8231-418a-845d-c25b3fe13172",
   "metadata": {},
   "source": [
    "**1-connaitre les dimensions de son dataset**"
   ]
  },
  {
   "cell_type": "code",
   "execution_count": null,
   "id": "2026363d-179e-434f-8f6e-75e2d4ededb1",
   "metadata": {},
   "outputs": [],
   "source": [
    "# dimension du dataset\n",
    "dimension = data.shape\n",
    "print(f\"Le nombre de ligne du dataFrame {dimension[0]}\")\n",
    "print(f\"Le nombre de colonne du dataFrame {dimension[1]}\")"
   ]
  },
  {
   "cell_type": "markdown",
   "id": "b63ad264-e653-45f5-a7fd-46c81d6f82b0",
   "metadata": {},
   "source": [
    "**2- connnaitre la composition de son dataset**"
   ]
  },
  {
   "cell_type": "markdown",
   "id": "e5dc663a-c681-4222-98ad-fb7fa4ec4005",
   "metadata": {},
   "source": [
    "Il peut être utile connaitre le type de variables pour chaque colonnes."
   ]
  },
  {
   "cell_type": "code",
   "execution_count": null,
   "id": "249c6a92-4473-4d4d-a9b4-4f79985875d1",
   "metadata": {},
   "outputs": [],
   "source": [
    "data.info()"
   ]
  },
  {
   "cell_type": "markdown",
   "id": "da939663-2a2c-448f-ae6d-6b915856be73",
   "metadata": {},
   "source": [
    "On remarque egalement les colonnes avec les valeurs non-null et donc,une première indication de la quantité de valeur null pour chaque colonnes.<br/>"
   ]
  },
  {
   "cell_type": "markdown",
   "id": "cf7cbd46-392d-4bd1-95d2-00819a02dffe",
   "metadata": {},
   "source": [
    "**3- compte les nombre de valeurs null pour chaque variables**"
   ]
  },
  {
   "cell_type": "markdown",
   "id": "69593a01-4ad8-4edc-ac87-d770bd9f40f9",
   "metadata": {},
   "source": [
    "Par exemple, la colonne numero a 100% de ces valeurs null on peut sans aucun impact la supprimer de notre analyse.<br/>\n",
    "Nous avancerons de cette manière pas à pas dans notre analyse de données pour proposer un axe d'amélioration des tournées."
   ]
  },
  {
   "cell_type": "markdown",
   "id": "4d9220f6-00ad-4edd-b88c-0a317ddeaae2",
   "metadata": {},
   "source": [
    "Pour une meilleurs perception du nombre de valeurs nuls, on peut les exprimer en pourcentage."
   ]
  },
  {
   "cell_type": "code",
   "execution_count": null,
   "id": "92ce994f-add7-4470-a7e3-cd4bbf57eecc",
   "metadata": {},
   "outputs": [],
   "source": [
    "null_counts = data.isnull()\n",
    "null_percentage = (null_counts.sum()/len(data))*100\n",
    "for column, percentage in null_percentage.items():\n",
    "    print(f'{column}: {percentage:.2f}%')"
   ]
  },
  {
   "cell_type": "markdown",
   "id": "b2a88510-40d5-4efc-aa52-357bd6d07377",
   "metadata": {},
   "source": [
    "#### Variables quantitative"
   ]
  },
  {
   "cell_type": "markdown",
   "id": "ebbef71a-899b-4b8f-ad1d-84b135ca367c",
   "metadata": {},
   "source": [
    "**4- identifier les principales valeurs de son dataset**"
   ]
  },
  {
   "cell_type": "markdown",
   "id": "8f11a532-e34c-4dd0-b1b2-a2f47895e74d",
   "metadata": {},
   "source": [
    "Pour les variables quantitative (numérique), il est bon de connaitre les principales statistiques tel que:<br/>\n",
    "- la moyenne\n",
    "- la valeur max\n",
    "- la valeur mini\n",
    "- la mediane..."
   ]
  },
  {
   "cell_type": "code",
   "execution_count": null,
   "id": "fd401a35-9f66-4f56-b644-e0ed07614838",
   "metadata": {},
   "outputs": [],
   "source": [
    "# description des variables quantitative\n",
    "data.describe()"
   ]
  },
  {
   "cell_type": "markdown",
   "id": "cffeb27b-32ca-428c-9b3c-e6a0e49ec9eb",
   "metadata": {},
   "source": [
    "Ainsi on peut facilement identifier simplement des valeurs impossible tel que:<br/>\n",
    "- Une circonference (max) de 250255 cm soit 2502m\n",
    "- Une hauteur (max) de 881818 m soit 881 kms.\n",
    "- Ou encore des valeur (min) égales à 0<br/>\n",
    "On travailleras sur ces données pour le nettoyage de valeurs impossibles ou abérantes"
   ]
  },
  {
   "cell_type": "markdown",
   "id": "8c7af3ec-d341-4a16-a000-799b48b1fcdd",
   "metadata": {},
   "source": [
    "#### Variables qualitative"
   ]
  },
  {
   "cell_type": "markdown",
   "id": "374ce894-913f-4e6f-b312-eb6e03e4fbd9",
   "metadata": {},
   "source": [
    "Pour les variables qualitative (non-numérique), cela nous permet de connaitre:<br/>\n",
    "- le nombre de valeurs unique (unique)\n",
    "- la valeur la plus fréquente de chaque colonne (top)\n",
    "- ainsi que la fréquence de cette valeur (freq)"
   ]
  },
  {
   "cell_type": "code",
   "execution_count": null,
   "id": "5af5c7bb-2f32-472e-a4a7-a6182e9e0fae",
   "metadata": {},
   "outputs": [],
   "source": [
    "# description des variables qualitative\n",
    "data.describe(include=\"object\")"
   ]
  },
  {
   "cell_type": "markdown",
   "id": "33197746-f822-43ad-93ec-04697fce5116",
   "metadata": {},
   "source": [
    "Cela pourra nous être utile dans le choix de nos représentations graphiques."
   ]
  },
  {
   "cell_type": "markdown",
   "id": "036d2764-f8d6-4be7-a572-e9042e629f2a",
   "metadata": {},
   "source": [
    "**5- Première représentation graphique: Diagramme en barres des valeurs nulles**"
   ]
  },
  {
   "cell_type": "markdown",
   "id": "b4b0e8f8-8092-4b12-ba9f-d2bac94a5c83",
   "metadata": {},
   "source": [
    "Précédement on a identifier et exprimé en pourcentage la quantité de valeur null.<br/>\n",
    "On peut donc les classer par ordre croissant et le afficher sous forme de diagramme en barres.<br/>\n",
    "Cela nous donne une visualisation plus direct des valeurs null de notre dataset"
   ]
  },
  {
   "cell_type": "code",
   "execution_count": null,
   "id": "6b871fc4-06d0-4944-b384-2ef3cf918456",
   "metadata": {},
   "outputs": [],
   "source": [
    "null_percentage=data.isnull().mean()*100\n",
    "null_percentage"
   ]
  },
  {
   "cell_type": "code",
   "execution_count": null,
   "id": "5dcc1993-032a-483c-b810-cb17b6c531a4",
   "metadata": {},
   "outputs": [],
   "source": [
    "null_percentage=data.isnull().mean()*100\n",
    "null_percentage=null_percentage.sort_values(ascending=False)\n",
    "\n",
    "null_percentage_df = pd.DataFrame(null_percentage, columns=['Pourcentage de valeurs nulles'])\n",
    "\n",
    "plt.figure(figsize=(14,8))\n",
    "bar_plot = sns.barplot(x=null_percentage_df['Pourcentage de valeurs nulles'], y=null_percentage_df.index)\n",
    "\n",
    "for index, value in enumerate(null_percentage):\n",
    "    bar_plot.text(value+1, index, f'{value:.2f}%', color='black', va='center')\n",
    "plt.title('Pourcentage de valeur nulles par colonnes')\n",
    "plt.ylabel('')"
   ]
  },
  {
   "cell_type": "markdown",
   "id": "b6d84252-229d-451e-9f09-9e33b7c61c83",
   "metadata": {},
   "source": [
    "Après avoir visualisé nos données et identifier les colonnes ayant le plus de valeur nulles,<br/>\n",
    "on peut choisir les colonnes inutiles par manque de données ainsi que celle que l'on ne souhaite pas utiliser."
   ]
  },
  {
   "cell_type": "markdown",
   "id": "463937c1-9b8d-425e-b9b3-2062c5a25f6c",
   "metadata": {},
   "source": [
    "## Nettoyage des données"
   ]
  },
  {
   "cell_type": "code",
   "execution_count": null,
   "id": "460a1d2f-6e99-4517-9015-86b19180caf7",
   "metadata": {},
   "outputs": [],
   "source": [
    "data.drop(['numero','complement_addresse','type_emplacement','id_emplacement','lieu','genre','espece','variete'], axis=1,inplace=True)"
   ]
  },
  {
   "cell_type": "markdown",
   "id": "6b30a111-6085-43a4-89f9-18c2f79ca125",
   "metadata": {},
   "source": [
    "#### Les valeurs impossibles"
   ]
  },
  {
   "cell_type": "markdown",
   "id": "774bafdb-ee78-49c8-bb6e-9a67fed136d6",
   "metadata": {},
   "source": [
    "##### Valeurs Zero"
   ]
  },
  {
   "cell_type": "markdown",
   "id": "3523b8a1-ce1c-4986-a4ca-0e5b08a9c864",
   "metadata": {},
   "source": [
    "On vérifie les colonne ayant des valeur égales à zero."
   ]
  },
  {
   "cell_type": "code",
   "execution_count": null,
   "id": "7798abef-5b69-4278-ab5f-4cc10223b90a",
   "metadata": {},
   "outputs": [],
   "source": [
    "zero_counts = (data==0).sum()\n",
    "zero_counts=(zero_counts/len(data))*100\n",
    "print(f'Liste des colonnes et proportions de valeurs egale à zero en % sur un total de {len(data)} individus')\n",
    "zero_counts=zero_counts.round(2)\n",
    "\n",
    "zero_counts"
   ]
  },
  {
   "cell_type": "code",
   "execution_count": null,
   "id": "ece45dad-49cd-438c-8a6e-825c198af5ff",
   "metadata": {},
   "outputs": [],
   "source": [
    "zero_percentage =zero_counts.drop('id') #On exclus id de notre affichage mais on le garde dans notre DataFrame.\n",
    "zero_percentage=zero_percentage.sort_values(ascending=False)\n",
    "zero_percentage_df=pd.DataFrame(zero_percentage, columns=['Pourcentage de valeurs égales à zéro'])"
   ]
  },
  {
   "cell_type": "code",
   "execution_count": null,
   "id": "42f45004-15e2-4a76-903a-cc54981932fc",
   "metadata": {},
   "outputs": [],
   "source": [
    "plt.figure(figsize=(10,8))\n",
    "sns.heatmap(zero_percentage_df, cmap='viridis', annot=True, fmt='.2f')\n",
    "plt.title('Heatmap des valeurs égales à zéro')\n",
    "plt.ylabel('Colonnes')"
   ]
  },
  {
   "cell_type": "markdown",
   "id": "bbc2d434-0f00-41f1-99aa-a9ddc355d8e5",
   "metadata": {},
   "source": [
    "<b>Les 3 colonnes contenant des valeurs égales à zero comme on peut le voir ci-dessus sont par ordre décroissant les colonnes:<b/><br/>\n",
    "- remarquable\n",
    "- hauteur_m\n",
    "- circonference_cm"
   ]
  },
  {
   "cell_type": "markdown",
   "id": "b9a3192a-ef3d-4175-b555-757494bcd0c1",
   "metadata": {},
   "source": [
    "On sait que la colonne \"remarquable\" contient zero ou 1 si l'arbre et remarquable ou non.<br/>\n",
    "Cela n'est donc pas pertinent de traiter cette colonne. La valeur zero ici n'est pas une valeur abérante et signifie que l'arbre n'est pas remarquable.<br/>\n",
    "En revanche, **supprimer les individus ayant une circonférence ou une hauteur de 0 est pertinent**.<br/>\n",
    "Un arbre n'existe pas si sa hauteur ou sa circonférence est égale à 0."
   ]
  },
  {
   "cell_type": "markdown",
   "id": "9a99cfb7-8a58-4659-b875-b4ef3839bfef",
   "metadata": {},
   "source": [
    "On traite aussi les hauteur max et circonférence max<br/>\n",
    "\n",
    "Au début de l'analyse de notre jeu de données: \"identifier les principales valeurs de son dataset\"<br/>\n",
    "on avait remarquer des valeur impossible:<br/>\n",
    "- Une circonference (max) de 250255 cm soit 2502m\n",
    "- Une hauteur (max) de 881818 m soit 881 kms.<br/>\n",
    "<br/>\n",
    "<br/>\n",
    "Voici comment nous traiterons ces valeurs:<br/>\n",
    "<br/>\n",
    "- La hauteur :<br/>\n",
    "**En 2021 un des arbres le plus haut à Paris faisait 30m**<br/>\n",
    "https://agriculture.gouv.fr/lun-des-plus-grands-arbres-de-paris-veille-sur-le-78-rue-de-varenne<br/>\n",
    "**on peut retrouver une data d'un arbre de 45m en 2006**<br/>\n",
    "https://public.opendatasoft.com/explore/dataset/arbresremarquablesparis2011/table/?flg=fr-fr&sort=arbres_hauteur en m.<br/>\n",
    "**_On retiendra une hauteur max de 50 m dans notre cas._**\n",
    "<br/>\n",
    "<br/>\n",
    "- La circonférence :<br/>\n",
    "**En 2006 la circonférence max des arbres à Paris était de 740 cm**<br/>\n",
    "https://www.unjourdeplusaparis.caom/paris-vert/arbres-remarquables-paris<br/>\n",
    "**_On retiendra ici une circonference max de 740 cm dans notre cas._**\n",
    "<br/>\n",
    "<br/>\n",
    "Les arbres au dessus seront donc considéré comme des valeurs impossibles."
   ]
  },
  {
   "cell_type": "code",
   "execution_count": null,
   "id": "adbd1b2c-7b31-4939-a957-960fca782544",
   "metadata": {},
   "outputs": [],
   "source": [
    "max_height=50\n",
    "\n",
    "num_tall_trees = (data['hauteur_m']>max_height).sum()\n",
    "num_tall_trees_null = (data['hauteur_m']==0).sum()\n",
    "print(f\"Il y a {num_tall_trees} arbres ayant une hauteur supèrieur à {max_height} m soit {((num_tall_trees/len(data))*100).round(2)} % du total des arbres\")\n",
    "print(f\"et {num_tall_trees_null} arbres ayant une hauteur null soit {((num_tall_trees_null/len(data))*100).round(2)} % du total des arbres\")"
   ]
  },
  {
   "cell_type": "markdown",
   "id": "5ea20cd1-5227-4ae5-a92b-f9856e3a2b5d",
   "metadata": {},
   "source": [
    "On nettoie notre jeu de données des individus de hauteur = 0 et de hauteur > 50m."
   ]
  },
  {
   "cell_type": "code",
   "execution_count": null,
   "id": "364d8bc7-2b0b-421a-9e50-4ef1e92d5ca1",
   "metadata": {},
   "outputs": [],
   "source": [
    "# on retire donc dans un premier temps la hauteur abérante en considérant un hauteur max de 50 m\n",
    "data = data[data['hauteur_m'] <= max_height]\n",
    "data = data[data['hauteur_m'] != 0]\n",
    "data.shape"
   ]
  },
  {
   "cell_type": "markdown",
   "id": "a1bcd962-7a30-41fa-81d9-964fcdd2d7ba",
   "metadata": {},
   "source": [
    "On effectue le même nettoyage mais cette fois sur la circonférence."
   ]
  },
  {
   "cell_type": "code",
   "execution_count": null,
   "id": "1a71705e-ab63-41d6-8a14-616e1e9b1306",
   "metadata": {},
   "outputs": [],
   "source": [
    "max_circonference = 740\n",
    "sorted_circonference = (data['circonference_cm']>max_circonference).sum()\n",
    "numb_circonference_null = (data['circonference_cm']==0).sum()\n",
    "\n",
    "print(f\"Il y a {sorted_circonference} arbres ayant une circonference de plus de {max_circonference} cm soit {((sorted_circonference/len(data))*100).round(2)} % du total des arbres\")\n",
    "print(f\"et {numb_circonference_null} arbres ayant une circonference null soit {((numb_circonference_null/len(data))*100).round(2)} % du total des arbres\")"
   ]
  },
  {
   "cell_type": "markdown",
   "id": "fa5d6210-2848-40c9-977c-4af7bf527a1b",
   "metadata": {},
   "source": [
    "On nettoie notre jeu de données des individus de circonférence = 0 et de circonférence > 740cm."
   ]
  },
  {
   "cell_type": "code",
   "execution_count": null,
   "id": "716b006a-0e93-4e89-9a60-a02433b307d1",
   "metadata": {},
   "outputs": [],
   "source": [
    "# on retire la circonférence supèrieur à max_circonférence.\n",
    "data = data[data['circonference_cm'] <= max_circonference]\n",
    "data = data[data['circonference_cm'] != 0]"
   ]
  },
  {
   "cell_type": "code",
   "execution_count": null,
   "id": "1e4c05e0-a9e2-4c6e-b24c-6457b8be2bb4",
   "metadata": {},
   "outputs": [],
   "source": [
    "print(f'Notre jeu de donnée nettoyé contient {len(data)} arbres')"
   ]
  },
  {
   "cell_type": "markdown",
   "id": "3a247502-605e-454e-bb25-66b7c5a93d40",
   "metadata": {},
   "source": [
    "Les valeurs impossibles sont traitées, nous allons travailler sur les valeurs abérantes"
   ]
  },
  {
   "cell_type": "markdown",
   "id": "56e0f057-69db-41e7-822c-ca6aff3ef4c8",
   "metadata": {},
   "source": [
    "#### Les valeurs abérantes"
   ]
  },
  {
   "cell_type": "markdown",
   "id": "211c45be-8949-4b25-9aee-e124baef7c17",
   "metadata": {},
   "source": [
    "Avant de traiter les valeurs abérantes nous pouvons les visaliser en utilisant une boite à moustache.<br/>\n",
    "Une boîte à moustaches est un graphique qui permet de visualiser la distribution d'un jeu de données en utilisant cinq valeurs statistiques principales :\n",
    "- le minimum,\n",
    "- le premier quartile (Q1),\n",
    "- la médiane (Q2),\n",
    "- le troisième quartile (Q3)\n",
    "- et le maximum."
   ]
  },
  {
   "cell_type": "code",
   "execution_count": null,
   "id": "d5133a08-5f42-4c54-b52d-cb641aac046b",
   "metadata": {},
   "outputs": [],
   "source": [
    "fig, axs= plt.subplots(1,2, figsize=(12,8))\n",
    "\n",
    "sns.boxplot(data['circonference_cm'], ax=axs[0])\n",
    "axs[0].set_title('Boite à moustache des circonférence en cm')\n",
    "\n",
    "sns.boxplot(data['hauteur_m'], ax=axs[1])\n",
    "axs[1].set_title('Boite à moustache des hauteur en m')"
   ]
  },
  {
   "cell_type": "markdown",
   "id": "e534e0c4-401c-4548-9fd2-3ef82d4e0a3c",
   "metadata": {},
   "source": [
    "La boîte : Représente les valeurs entre Q1 et Q3.<br/>\n",
    "La ligne à l'intérieur de la boîte représente la médiane (Q2)<br/>\n",
    "Les moustaches : S'étendent des quartiles (Q1 et Q3) jusqu'aux valeurs minimum et maximum qui ne sont pas considérées comme des valeurs aberrantes."
   ]
  },
  {
   "cell_type": "markdown",
   "id": "ae2a5153-94ff-4ba3-ba3e-6875e5d5f034",
   "metadata": {},
   "source": [
    "On remarque des points en dehors des moustaches. Cela représentent les outliers.<br/>\n",
    "Ce sont nos valeurs abérantes.<br/>\n",
    "Ce sont ces valeurs que nous allons traiter<br/>\n",
    "Pour ce faire nous allons utiliser la méthodes IQR.<br/>\n",
    "c'est une mesure de dispersion statistique qui décrit l'étendue des valeurs situées entre le premier quartile (Q1) et le troisième quartile (Q3) d'un jeu de données."
   ]
  },
  {
   "cell_type": "code",
   "execution_count": null,
   "id": "502ec021-1be8-460c-a32f-66076879563a",
   "metadata": {},
   "outputs": [],
   "source": [
    "def detect_outliers_(data, column):\n",
    "    Q1=data[column].quantile(0.25)\n",
    "    Q3=data[column].quantile(0.75)\n",
    "    IQR = Q3 -Q1\n",
    "    lower_limit = max(0,Q1-1.5 * IQR)\n",
    "    upper_limit = Q3 + 1.5 *IQR\n",
    "    outliers = (data[column]<lower_limit) | (data[column]>upper_limit)\n",
    "    return outliers, lower_limit, upper_limit"
   ]
  },
  {
   "cell_type": "code",
   "execution_count": null,
   "id": "98698758-8064-43b0-866f-f793496aac6b",
   "metadata": {},
   "outputs": [],
   "source": [
    "outliers_hauteur, lower_hauteur, upper_hauteur = detect_outliers_(data,'hauteur_m')\n",
    "outliers_circonference, lower_circonference, upper_circonference = detect_outliers_(data,'circonference_cm')\n",
    "print(f'Limites pour hauteur_m: inférieure = {lower_hauteur}, supérieure = {upper_hauteur}')\n",
    "print(f'Limites pour circonference_cm: inférieure = {lower_circonference}, supérieure = {upper_circonference}')"
   ]
  },
  {
   "cell_type": "markdown",
   "id": "e7b6cd81-80a3-4362-a5e3-45a2fce87fee",
   "metadata": {},
   "source": [
    "On ne garde donc que nos arbres correspondant aux limites définis par cette méthode."
   ]
  },
  {
   "cell_type": "code",
   "execution_count": null,
   "id": "68830fce-bd6b-4171-a7f7-79e26fbc829a",
   "metadata": {},
   "outputs": [],
   "source": [
    "data=data[(data['hauteur_m']>=lower_hauteur) & (data['hauteur_m']<=upper_hauteur) & (data['circonference_cm']>=lower_circonference) & (data['circonference_cm']<upper_circonference) ]\n",
    "print(f'Notre dataset contient à présent {len(data)} arbres')"
   ]
  },
  {
   "cell_type": "code",
   "execution_count": null,
   "id": "f1e5f9f6-9a00-4a9a-821c-6988eb585062",
   "metadata": {},
   "outputs": [],
   "source": [
    "fig, axs= plt.subplots(1,2, figsize=(12,8))\n",
    "\n",
    "sns.boxplot(data['circonference_cm'], ax=axs[0])\n",
    "axs[0].set_title('Boite à moustache des circonférence en cm')\n",
    "\n",
    "sns.boxplot(data['hauteur_m'], ax=axs[1])\n",
    "axs[1].set_title('Boite à moustache des hauteur en m')"
   ]
  },
  {
   "cell_type": "markdown",
   "id": "94fb8462-9c5c-45f2-ab5b-b97504cd5a77",
   "metadata": {},
   "source": [
    "On remarque que de nouveau points (Outliers ou valeur abérantes) apparaissent.<br/>\n",
    "Cela est normal en retirant les premières valeur abérantes, le nouveau jeu de donnée peut calculer de nouvelles valeur abérantes.<br/>\n",
    "Si cela est nécessaire on peut les retirer de manière itérative."
   ]
  },
  {
   "cell_type": "markdown",
   "id": "d853d048-feee-40db-b56a-d5f6e586c11d",
   "metadata": {},
   "source": [
    "## Analyse univariee"
   ]
  },
  {
   "cell_type": "markdown",
   "id": "a2ccfb30-2dbe-4142-b24a-9f5ad2441fa7",
   "metadata": {},
   "source": [
    "Nos données sont nettoyées des:<br/>\n",
    "- valeurs impossibles\n",
    "- valeurs abérantes"
   ]
  },
  {
   "cell_type": "markdown",
   "id": "c9e065ae-2d43-4579-91eb-4d487c0e935c",
   "metadata": {},
   "source": [
    "**Nous allons maintenant regarder les variables une à une pour determiner notre cible.**"
   ]
  },
  {
   "cell_type": "markdown",
   "id": "37863397-7845-4ce8-ab96-dd8dbd824a69",
   "metadata": {},
   "source": [
    "### Distribution des arbres remarquables"
   ]
  },
  {
   "cell_type": "code",
   "execution_count": null,
   "id": "cb0acdd8-e05f-4add-8348-b212c710d2ee",
   "metadata": {},
   "outputs": [],
   "source": [
    "remarquable_counts = data['remarquable'].value_counts()\n",
    "\n",
    "# Étiquettes pour le graphique en camembert\n",
    "labels = ['Non remarquable', 'Remarquable']\n",
    "\n",
    "plt.figure(figsize=(8, 8))\n",
    "plt.pie(remarquable_counts, labels = labels, autopct='%1.1f%%', startangle = 90, colors =['orange','blue'])\n",
    "plt.title(\"Distribution des valeurs remarquables\")\n",
    "plt.legend(loc=\"best\")"
   ]
  },
  {
   "cell_type": "markdown",
   "id": "dbf24dde-3e48-47b3-a185-145d21c985ce",
   "metadata": {},
   "source": [
    "On observe que 99.9% de nos arbres dans notre jeu de données nettoyé ne sont pas remarquable."
   ]
  },
  {
   "cell_type": "markdown",
   "id": "f141db54-2247-4f92-bcb2-d596f334f3a1",
   "metadata": {},
   "source": [
    "### Distribution des arbres par arrondissements"
   ]
  },
  {
   "cell_type": "code",
   "execution_count": null,
   "id": "036ff2df-a39b-4e13-9679-d23cc571623b",
   "metadata": {},
   "outputs": [],
   "source": [
    "# Distribution des arbres par arrondissement\n",
    "arrondissement_counts = data['arrondissement'].value_counts().sort_values()\n",
    "arrondissement_order = arrondissement_counts.index\n",
    "\n",
    "\n",
    "plt.figure(figsize=(8, 8))\n",
    "plt.pie(arrondissement_counts, labels=arrondissement_order, labeldistance=1.15, wedgeprops = { 'linewidth' : 3, 'edgecolor' : 'white' }, autopct='%1.1f%%');\n",
    "plt.title(\"Distribution des arbres par arrondissement\")\n",
    "arrondissement_percent = (arrondissement_counts / len(data)) * 100\n",
    "\n",
    "arrondissements_above_5_percent = arrondissement_percent[arrondissement_percent >= 5]\n",
    "nombre_arrondissements = arrondissements_above_5_percent.count()\n",
    "print(f'{nombre_arrondissements} arrondisements possède plus de 5% des arbres de notre jeu de données.')\n",
    "somme_pourcentages = arrondissements_above_5_percent.sum()\n",
    "print(f'Ces arrondissements représentent environ {somme_pourcentages:.2f}% du total des arbres de notre jeu de données.')\n"
   ]
  },
  {
   "cell_type": "markdown",
   "id": "3159bd00-fa2d-4f48-97ad-47a58da2d9da",
   "metadata": {},
   "source": [
    "## Distribution de la hauteur des arbres"
   ]
  },
  {
   "cell_type": "code",
   "execution_count": null,
   "id": "455d22d0-e80e-4102-9e98-b4156a7b9d35",
   "metadata": {},
   "outputs": [],
   "source": [
    "fig, ax = plt.subplots(figsize =(12,9))\n",
    "\n",
    "hauteur_bins= int(data['hauteur_m'].max().round(0))\n",
    "print(f'max std {hauteur_bins}')\n",
    "bins=np.histogram_bin_edges(data['hauteur_m'], bins=hauteur_bins)\n",
    "ax.hist(data['hauteur_m'], bins=bins, edgecolor=\"black\",linewidth=.2)\n",
    "\n",
    "# Ajouter des titres et des labels\n",
    "ax.set_title(\"Distribution des hauteurs des arbres\")\n",
    "ax.set_xlabel(\"Hauteur (mètres)\")\n",
    "ax.set_ylabel(\"Nombre d'arbres\")"
   ]
  },
  {
   "cell_type": "markdown",
   "id": "ac9ca906-d443-4bb4-b709-c0ee2a62a1c6",
   "metadata": {},
   "source": [
    "On constate une distribution multimodal de la hauteur des arbres.<br/>\n",
    "cela peut se justifier par l'espèces des arbres.<br/>\n",
    "Chaque espèce ne grandit pas à la même vitesse.<br/>\n",
    "La distribution des hauteurs des arbres dans nos données montre plusieurs groupes distincts de hauteurs fréquentes, ce qui peut indiquer différentes espèces ou âges d'arbres."
   ]
  },
  {
   "cell_type": "markdown",
   "id": "5417f6ea-a773-416a-b0f0-59c79956e6a2",
   "metadata": {},
   "source": [
    "## Distribution de la circonférence des arbres"
   ]
  },
  {
   "cell_type": "code",
   "execution_count": null,
   "id": "d7031ade-c6b0-4241-8c25-bb21d402d222",
   "metadata": {},
   "outputs": [],
   "source": [
    "bins = range(int(data['circonference_cm'].min()), int(data['circonference_cm'].max()) + 10, 10)\n",
    "\n",
    "fig, ax = plt.subplots(figsize =(12,9))\n",
    "circonference_bins= int(data['circonference_cm'].max().round(0)/10)\n",
    "bins=np.histogram_bin_edges(data['circonference_cm'], bins=circonference_bins)\n",
    "ax.hist(data['circonference_cm'], bins=bins, edgecolor=\"black\",linewidth=.2)\n",
    "\n",
    "# Ajouter des titres et des labels\n",
    "ax.set_title(\"Distribution des circonférence des arbres\")\n",
    "ax.set_xlabel(\"circonférence (cm)\")\n",
    "ax.set_ylabel(\"Nombre d'arbres\")"
   ]
  },
  {
   "cell_type": "markdown",
   "id": "79173679-962d-46b5-91f0-ea27aefed922",
   "metadata": {},
   "source": [
    "La distribution est asymétrique vers la droite.<br/>\n",
    "Cela signifie que la plupart des valeurs sont concentrées vers le bas de l'échelle (à gauche) avec une longue traîne qui s'étend vers des valeurs plus élevées (à droite).<br/>\n",
    "La queue de la distribution s'étend bien au-delà des valeurs plus élevées, jusqu'à environ 250 centimètres, indiquant la présence de quelques arbres avec des circonférences très grandes.<br/>\n",
    "Un grand nombre d'observations se concentrent autour d'une valeur moyenne et une minorité des observations s'étendent vers des valeurs extrêmes."
   ]
  },
  {
   "cell_type": "markdown",
   "id": "ff5951f7-556c-4b2a-b92d-56b4ffe9aac2",
   "metadata": {},
   "source": [
    "## Distribution des libelles francais"
   ]
  },
  {
   "cell_type": "markdown",
   "id": "07835e46-b9b0-44e9-b985-6512b5415451",
   "metadata": {},
   "source": [
    "### Histogramme"
   ]
  },
  {
   "cell_type": "code",
   "execution_count": null,
   "id": "529142d7-4910-412c-a051-767e2859284b",
   "metadata": {},
   "outputs": [],
   "source": [
    "libelle_francais_counts=data['libelle_francais'].value_counts()"
   ]
  },
  {
   "cell_type": "code",
   "execution_count": null,
   "id": "8345f1d9-5535-4f08-a783-ad56bc66effb",
   "metadata": {},
   "outputs": [],
   "source": [
    "plt.figure(figsize=(26,10))\n",
    "libelle_francais_counts.plot(kind='bar')\n",
    "plt.title('Distribution des arbres par libelle français')\n",
    "plt.xlabel('libelle Francais')\n",
    "plt.ylabel('Nombre d\\'arbres')"
   ]
  },
  {
   "cell_type": "markdown",
   "id": "806f2942-a29d-4833-b745-a1c731a1949c",
   "metadata": {},
   "source": [
    "On retrouve une distribtion asymetrique droite ici aussi.<br/>\n",
    "Un petit nombre d'espèces d'arbres, comme le platane, le marronnier, et le tilleul, dominent avec des quantités extrêmement élevées par rapport aux autres."
   ]
  },
  {
   "cell_type": "markdown",
   "id": "16044522-d089-47c7-a14e-287f846901ca",
   "metadata": {},
   "source": [
    "### PieChart"
   ]
  },
  {
   "cell_type": "markdown",
   "id": "aed4bc6d-d3ae-402b-8a5e-232d4c3e3c4a",
   "metadata": {},
   "source": [
    "Une représentation en PieChart peut être utile"
   ]
  },
  {
   "cell_type": "code",
   "execution_count": null,
   "id": "fcc7d056-8090-45a4-9508-f3a8438b6179",
   "metadata": {},
   "outputs": [],
   "source": [
    "threshold_target=0.015 #Ajuste le % pour inclure plus ou moins de libellé Français dans \"Autres\"\n",
    "\n",
    "total = libelle_francais_counts.sum()\n",
    "threshold = threshold_target * total\n",
    "\n",
    "libelle_francais_counts_grouped = libelle_francais_counts[libelle_francais_counts >= threshold]\n",
    "\n",
    "clean_dataset = libelle_francais_counts_grouped.reset_index()\n",
    "clean_dataset.columns=['libelle_francais','count']\n",
    "\n",
    "libelle_francais_counts_with_others = libelle_francais_counts_grouped.copy()\n",
    "libelle_francais_counts_with_others[f'Autre libelle Francais < {round(threshold_target*100,2)}%'] = libelle_francais_counts[libelle_francais_counts <threshold].sum()\n",
    "number_not_other_libelle_francais=libelle_francais_counts_grouped.count()\n",
    "\n",
    "fig, axes = plt.subplots(nrows=1, ncols=2, figsize=(18, 9))\n",
    "\n",
    "libelle_francais_counts_with_others.plot(kind='pie', autopct='%1.1f%%', startangle=90, ax=axes[0])\n",
    "axes[0].set_title('Distribution des arbres par libellé Francais (avec \"autres\")')\n",
    "axes[0].set_ylabel('')\n",
    "\n",
    "clean_dataset.set_index('libelle_francais')['count'].plot(kind='pie', autopct='%1.1f%%', startangle=90, ax=axes[1])\n",
    "axes[1].set_title('Distribution des arbres par libellé Francais (sans \"autres\")')\n",
    "axes[1].set_ylabel('')\n",
    "\n",
    "\n",
    "plt.tight_layout()\n"
   ]
  },
  {
   "cell_type": "markdown",
   "id": "0c4f13d0-e8a0-476b-8ae4-5137bfb7b425",
   "metadata": {},
   "source": [
    "En retirant les arbres représentant moins de 1.5% de notre de notre jeu de données, on se rend compte que plus d'1/4 sont des Platane."
   ]
  },
  {
   "cell_type": "code",
   "execution_count": null,
   "id": "b7f6b70c-9ea4-4947-9054-2abd452f3c4d",
   "metadata": {},
   "outputs": [],
   "source": [
    "percentage_not_other = 100-((libelle_francais_counts[libelle_francais_counts < threshold].sum()/total)*100)\n",
    "print(f'{number_not_other_libelle_francais} libellés Français représentent environ {percentage_not_other.round(2)}% des valeurs total des données')"
   ]
  },
  {
   "cell_type": "markdown",
   "id": "bc7fdda5-138b-48cf-8707-35210f950da8",
   "metadata": {},
   "source": [
    "On va ce concentrer sur ces libellés qui représente la majorité de nos données."
   ]
  },
  {
   "cell_type": "markdown",
   "id": "f8e6f8f0-e3e5-498c-8960-5c4b96c43390",
   "metadata": {},
   "source": [
    "On filtre donc en ne gardant que les libellés qui ont un pourcentage >= à notre valeur cible stockée dans \"threshold\"."
   ]
  },
  {
   "cell_type": "code",
   "execution_count": null,
   "id": "1e10f1bf-7190-4f19-8e85-012bb65b2418",
   "metadata": {},
   "outputs": [],
   "source": [
    "libelles_principaux = libelle_francais_counts[libelle_francais_counts >= threshold].index\n",
    "data = data[data['libelle_francais'].isin(libelles_principaux)]"
   ]
  },
  {
   "cell_type": "markdown",
   "id": "c79a57d7-a6da-4fce-978b-8182aab16893",
   "metadata": {},
   "source": [
    "## Distribution stade de développement"
   ]
  },
  {
   "cell_type": "markdown",
   "id": "f9cc04b3-1d7a-477d-b980-ec26f070cad4",
   "metadata": {},
   "source": [
    "### piechart"
   ]
  },
  {
   "cell_type": "markdown",
   "id": "adb48753-ef18-435a-97dc-c376a816c7e8",
   "metadata": {},
   "source": [
    "Il sera utiles de connaitre la réaprtition des stade de développement pour l'optimisation des tournées"
   ]
  },
  {
   "cell_type": "code",
   "execution_count": null,
   "id": "73bf5f9e-bd29-44eb-983c-36064ba92e3a",
   "metadata": {},
   "outputs": [],
   "source": [
    "stade_developpement_counts=data['stade_developpement'].value_counts()"
   ]
  },
  {
   "cell_type": "code",
   "execution_count": null,
   "id": "7b8813dd-f24c-4cae-88c4-74ab49dd9082",
   "metadata": {},
   "outputs": [],
   "source": [
    "labels =['Jeunes', 'Jeunes Adultes', 'Adultes','Mature']\n",
    "label_mapping = {\n",
    "    'J': 'Jeunes',\n",
    "    'JA': 'Jeunes Adultes',\n",
    "    'A': 'Adultes',\n",
    "    'M': 'Mature'\n",
    "}\n",
    "\n",
    "pie_labels = [label_mapping[stage] for stage in stade_developpement_counts.index]\n",
    "plt.figure(figsize=(12,9))\n",
    "stade_developpement_counts.plot(kind='pie', autopct='%1.1f%%', startangle=90, labels=pie_labels, wedgeprops = { 'linewidth' : 3, 'edgecolor' : 'white' })\n",
    "plt.title('Distribution des arbres par stade de developpement')\n",
    "plt.ylabel('')\n",
    "plt.legend()"
   ]
  },
  {
   "cell_type": "markdown",
   "id": "4c831ede-6a53-42b2-b112-891343e3b32c",
   "metadata": {},
   "source": [
    "Une distribution sur la domanialité peut-être pertinent pour les tournées d'entretien."
   ]
  },
  {
   "cell_type": "code",
   "execution_count": null,
   "id": "fd0ea08d-a1a8-490d-8f6b-9790f297931e",
   "metadata": {},
   "outputs": [],
   "source": [
    "domanialite_counts=data['domanialite'].value_counts()\n",
    "plt.figure(figsize=(12, 8))\n",
    "domanialite_counts.plot(kind='bar', color='skyblue', edgecolor='black')\n",
    "plt.title('Distribution des arbres par domanialité')\n",
    "plt.xlabel('Domanialité')\n",
    "plt.ylabel('Nombre d\\'arbres')\n",
    "plt.xticks(rotation=45)\n",
    "plt.show()"
   ]
  },
  {
   "cell_type": "markdown",
   "id": "51b01820-72f2-4500-acf3-64af596b0792",
   "metadata": {},
   "source": [
    "Om remarque une forte présence des arbres sur les alignements."
   ]
  },
  {
   "cell_type": "markdown",
   "id": "93d762ef-b05e-46cc-b9ba-bf1d143b1a32",
   "metadata": {},
   "source": [
    "# Analyse bivariée"
   ]
  },
  {
   "cell_type": "markdown",
   "id": "79143cd4-ed7c-465e-92ae-f40d7c699fff",
   "metadata": {},
   "source": [
    "## Matrice de correlation"
   ]
  },
  {
   "cell_type": "markdown",
   "id": "339a71eb-7968-456d-a19c-116936147a9b",
   "metadata": {},
   "source": [
    "Cela permet d'identifier les relations linéaires entre les variables"
   ]
  },
  {
   "cell_type": "code",
   "execution_count": null,
   "id": "dff0b3fd-5ba0-4612-bb92-273b3e24b817",
   "metadata": {},
   "outputs": [],
   "source": [
    "numeric_data = data.select_dtypes(include=[np.number])\n",
    "correlation_matrix = numeric_data.corr()"
   ]
  },
  {
   "cell_type": "code",
   "execution_count": null,
   "id": "0d842e1a-20c2-449e-a214-3801109b9a1d",
   "metadata": {},
   "outputs": [],
   "source": [
    "print(correlation_matrix)"
   ]
  },
  {
   "cell_type": "markdown",
   "id": "69f553a6-6ce4-43f9-9490-fef3d5956783",
   "metadata": {},
   "source": [
    "Les point GPS ainsi que l'id ne sont pas pertinent pour une matrice de correlation. On ne les affichera pas."
   ]
  },
  {
   "cell_type": "markdown",
   "id": "d3d6f756-0061-465f-8afc-6d00d3560056",
   "metadata": {},
   "source": [
    "### Interprétation"
   ]
  },
  {
   "cell_type": "code",
   "execution_count": null,
   "id": "f14b15c0-c917-4a40-a397-502a92c1f131",
   "metadata": {},
   "outputs": [],
   "source": [
    "numeric_data = data.select_dtypes(include=[np.number]).drop(columns=['id','geo_point_2d_a','geo_point_2d_b'])\n",
    "correlation_matrix = numeric_data.corr()"
   ]
  },
  {
   "cell_type": "code",
   "execution_count": null,
   "id": "604cad85-13e1-4c77-a98d-ea522ed75f48",
   "metadata": {},
   "outputs": [],
   "source": [
    "plt.figure(figsize=(14,8))\n",
    "sns.heatmap(correlation_matrix, annot=True, cmap='coolwarm')\n",
    "plt.title(\"Matrice de Correlation\")\n",
    "plt.show()"
   ]
  },
  {
   "cell_type": "markdown",
   "id": "241e93ff-adf0-467a-bf6b-3ff8925c01b0",
   "metadata": {},
   "source": [
    "La principale observation est la forte corrélation positive entre la circonférence et la hauteur des arbres. 0.8<br/>\n",
    "Les arbres plus hauts tendent à avoir une plus grande circonférence.<br/>\n",
    "Les autres relations sont faibles et ne montrent pas de dépendances significatives entre les variables.<br/>\n",
    "Cette matrice de corrélation peut être utilisée pour identifier les variables à explorer davantage dans des analyses futures.<br/>\n",
    "<br/>\n",
    "Les corrélations proches de 0 signifie qu'il n'y a pas de relation linéaire significative entre ces paires de variables."
   ]
  },
  {
   "cell_type": "code",
   "execution_count": null,
   "id": "1aaeb1f6-84af-4dec-9380-81e53eff74d0",
   "metadata": {},
   "outputs": [],
   "source": [
    "data.info()"
   ]
  },
  {
   "cell_type": "markdown",
   "id": "6f0eae4b-15f0-427f-94af-aec7096e963c",
   "metadata": {},
   "source": [
    "### Relation entre la circonférence et la hauteur des arbres"
   ]
  },
  {
   "cell_type": "code",
   "execution_count": null,
   "id": "4ee4ff4c-7508-4386-aea7-3cf60e694823",
   "metadata": {},
   "outputs": [],
   "source": [
    "plt.figure(figsize=(14,8))\n",
    "sns.scatterplot(x='circonference_cm', y='hauteur_m',data=data)\n",
    "plt.title('Relation entre la circonférence et la hauteur des arbres')\n",
    "plt.xlabel('Circonférence (cm)')\n",
    "plt.ylabel('Hauteur (m)')"
   ]
  },
  {
   "cell_type": "markdown",
   "id": "c77c1857-c2b0-40f8-bf54-291194dfb473",
   "metadata": {},
   "source": [
    "On remarque une correlation positive:\n",
    "- Il y a une tendance générale à la hausse : les arbres avec une plus grande circonférence tendent à être plus hauts.\n",
    "- La corrélation n'est pas parfaite, mais il y a une relation évidente entre ces deux variables.<br/>\n",
    "<br/>\n",
    "On observe aussi des clusters de points:\n",
    "- Plusieurs lignes horizontales de points indiquent des hauteurs d'arbres communes, probablement dues à des espèces spécifiques ou à des pratiques de mesure.\n",
    "- Les points se concentrent principalement autour de certaines valeurs de circonférence et de hauteur, indiquant des tailles d'arbres courantes.<br/>\n",
    "<br/>\n",
    "Outliers:\n",
    "- Quelques points se trouvent en dehors de la tendance générale, mais ils ne sont pas nombreux.<br/>\n",
    "\n",
    "**Le graphique confirme une relation positive entre la circonférence et la hauteur des arbres. Les lignes horizontales suggèrent des tailles standardisées ou des catégories d'espèces spécifiques**"
   ]
  },
  {
   "cell_type": "markdown",
   "id": "b0c45c2b-0895-4010-a2aa-e9ba421cec74",
   "metadata": {},
   "source": [
    "# ANALYSE A LA CIBLE"
   ]
  },
  {
   "cell_type": "markdown",
   "id": "703912cb-426d-41ff-8328-42fd520828de",
   "metadata": {},
   "source": [
    "Notre cible sera les stade de developpement des arbres.\n",
    "\n",
    "Cette cible s'inscrit dans le \"Plan Arbre:Les actions de Paris pour l’arbre et la nature en ville - Fiches-actions 2021-2026\"\n",
    "https://cdn.paris.fr/paris/2021/12/13/daf6cce214190a66c7919b34989cf1ed.pdf\n",
    "\n",
    "ains que dans la \"charte de l'arbre\"\n",
    "lien: https://cdn.paris.fr/paris/2021/12/13/9b5f4f79c5bf85d6441d5ad4be3a1669.pdf"
   ]
  },
  {
   "cell_type": "markdown",
   "id": "29d1e5df-d43b-405f-8dc5-f4d9a6f17928",
   "metadata": {},
   "source": [
    "### Distribution des arbres par arrondissement et stade de developpement"
   ]
  },
  {
   "cell_type": "code",
   "execution_count": null,
   "id": "d95e8d62-33ac-4961-9766-b7fb3b67638c",
   "metadata": {},
   "outputs": [],
   "source": [
    "stacked_data=data.groupby(['arrondissement','stade_developpement']).size().unstack(fill_value=0)\n",
    "total_trees_per_arrondissement = stacked_data.sum(axis=1)\n",
    "sorted_arrondissements=total_trees_per_arrondissement.sort_values().index\n",
    "stacked_data = stacked_data.loc[sorted_arrondissements]\n",
    "stacked_data.plot(kind='bar',stacked=True, figsize=(14,8), colormap='viridis')\n",
    "plt.title('Distribution de la hauteur des arbres par arrondissement et stade de developpement')\n",
    "plt.ylabel('Count')"
   ]
  },
  {
   "cell_type": "markdown",
   "id": "dc8a93e6-ca2d-4bb6-b8f6-adbb4574e7a0",
   "metadata": {},
   "source": [
    "Cela nous informe sur la repartition des arbres par arrondissement et par stade de developpement"
   ]
  },
  {
   "cell_type": "code",
   "execution_count": null,
   "id": "a026361e-abe5-4576-8998-77d5a9cd2360",
   "metadata": {},
   "outputs": [],
   "source": [
    "data.info()"
   ]
  },
  {
   "cell_type": "code",
   "execution_count": null,
   "id": "3a20cbca-56b0-4911-b74e-de5421b525ed",
   "metadata": {},
   "outputs": [],
   "source": [
    "def distribution_trees_by_compareBy (data, target,compareBy, target_bins=1, colormap='tab20',legend_labels=None):\n",
    "   \n",
    "    if data[target].dtype == 'category' or data[target].dtype==object or data[target].dtype =='float64':\n",
    "        stacked_data=data.groupby([target, compareBy],observed=False).size().unstack(fill_value=0)\n",
    "    elif data[target].dtype in['int64']:\n",
    "        bins=list(range(0,int(data[target].max())+target_bins,target_bins))\n",
    "        data_add_columns_bins=f'{target}_bin'\n",
    "        data[data_add_columns_bins]=pd.cut(data[target],bins=bins)\n",
    "        stacked_data = data.groupby([data_add_columns_bins, compareBy], observed=False).size().unstack(fill_value=0)\n",
    "    else:\n",
    "        raise ValueError(f\"Type de variable non supporté pour {target}\")\n",
    "        # Ajout des catégories manquantes\n",
    "        \n",
    "    stacked_data_percentage = stacked_data.div(stacked_data.sum(axis=1),axis=0)*100\n",
    "    \n",
    "    ax=stacked_data_percentage.plot(kind='bar', stacked=True, figsize=(12,8),colormap='tab20')\n",
    "\n",
    "    if legend_labels:\n",
    "        handles, labels = ax.get_legend_handles_labels()\n",
    "        ax.legend(handles, [legend_labels[label] for label in labels], title=compareBy, bbox_to_anchor=(1.05, 1), loc='upper left')\n",
    "    else:\n",
    "        plt.legend(title=compareBy, bbox_to_anchor=(1.05, 1), loc='upper left')\n",
    "        \n",
    "    plt.title(f'Distribution {target} des arbres par {compareBy}')\n",
    "    plt.ylabel(f'Distribution par {compareBy}')\n",
    "    plt.xlabel(target)\n",
    "    \n",
    "    #plt.legend(title=compareBy, bbox_to_anchor=(1.05,1),loc='upper left')\n",
    "    plt.tight_layout()"
   ]
  },
  {
   "cell_type": "code",
   "execution_count": null,
   "id": "9ea71307-d752-4e66-be1d-dfffb46d2872",
   "metadata": {},
   "outputs": [],
   "source": [
    "compareBy=\"stade_developpement\"\n",
    "label_mapping = {\n",
    "    'J': 'Jeunes',\n",
    "    'JA': 'Jeunes Adultes',\n",
    "    'A': 'Adultes',\n",
    "    'M': 'Mature'\n",
    "}"
   ]
  },
  {
   "cell_type": "code",
   "execution_count": null,
   "id": "2978e609-d3d1-4293-9b69-34527d809e06",
   "metadata": {},
   "outputs": [],
   "source": [
    "data_remarquable= data.copy()\n",
    "data_remarquable['remarquable']= data_remarquable['remarquable'].replace({0.0:'non remarquable', 1.0:'remarquable'})"
   ]
  },
  {
   "cell_type": "code",
   "execution_count": null,
   "id": "8dcdf814-adb1-4f10-ad03-172a0b6e2b50",
   "metadata": {},
   "outputs": [],
   "source": [
    "distribution_trees_by_compareBy(data=data_remarquable,target='remarquable', compareBy=compareBy, colormap='tab20',legend_labels=None)"
   ]
  },
  {
   "cell_type": "code",
   "execution_count": null,
   "id": "71feb803-22bb-4442-ba88-c85d6e2ad235",
   "metadata": {},
   "outputs": [],
   "source": [
    "distribution_trees_by_compareBy(data=data,target='domanialite', compareBy=compareBy, colormap='tab20')"
   ]
  },
  {
   "cell_type": "code",
   "execution_count": null,
   "id": "5f02c0b2-e36b-4403-9b71-14ac9f1add24",
   "metadata": {},
   "outputs": [],
   "source": [
    "distribution_trees_by_compareBy(data=data,target='arrondissement', target_bins=1,compareBy=compareBy, colormap='tab20')"
   ]
  },
  {
   "cell_type": "code",
   "execution_count": null,
   "id": "979a58c8-1bf4-47b6-9b36-16c402098e01",
   "metadata": {},
   "outputs": [],
   "source": [
    "distribution_trees_by_compareBy(data=data,target='hauteur_m', target_bins=5,compareBy=compareBy, colormap='tab20')"
   ]
  },
  {
   "cell_type": "code",
   "execution_count": null,
   "id": "e4eb0ec8-ada3-43db-b294-3716f564db05",
   "metadata": {},
   "outputs": [],
   "source": [
    "distribution_trees_by_compareBy(data=data,target='circonference_cm', target_bins=10,compareBy=compareBy, colormap='tab20')"
   ]
  },
  {
   "cell_type": "code",
   "execution_count": null,
   "id": "a81c2f8e-0225-4d2d-88bf-bfe8a4f1e661",
   "metadata": {},
   "outputs": [],
   "source": [
    "distribution_trees_by_compareBy(data=data,target='libelle_francais', target_bins=1,compareBy=compareBy, colormap='tab20')"
   ]
  },
  {
   "cell_type": "markdown",
   "id": "233ad47c-1f3f-4ac9-b371-c97a50f78062",
   "metadata": {},
   "source": [
    "### Proportion d'arbres remarquables par domanialité"
   ]
  },
  {
   "cell_type": "code",
   "execution_count": null,
   "id": "b0a3cf24-15eb-4550-9b48-d54eab59b23a",
   "metadata": {},
   "outputs": [],
   "source": [
    "plt.figure(figsize=(14,8))\n",
    "remaquable_counts = data.groupby('domanialite')['remarquable'].sum().sort_values(ascending=False)\n",
    "remaquable_counts.plot(kind='bar', color='skyblue')\n",
    "plt.title('Proportion d\\'arbres remarquables par domanialité')\n",
    "plt.xlabel('Domanialité')\n",
    "plt.ylabel('Nombre d\\'arbres remarquables')"
   ]
  },
  {
   "cell_type": "markdown",
   "id": "5cdd1a63-c0aa-42b7-808d-0bf0ddf1c222",
   "metadata": {},
   "source": [
    "Le graphique met en évidence que les jardins sont les principaux contributeurs aux arbres remarquables.<br/>\n",
    "Les autres domanialités, bien qu'importantes, ont une proportion beaucoup plus faible d'arbres remarquables.<br/>"
   ]
  },
  {
   "cell_type": "markdown",
   "id": "f534715f-f30e-4729-976d-6ceab11a78cf",
   "metadata": {},
   "source": [
    "### Carte de densité des arbres par coordonnées géographiques"
   ]
  },
  {
   "cell_type": "code",
   "execution_count": null,
   "id": "779d4079-0a6b-42db-b8d9-bb36bd39c298",
   "metadata": {},
   "outputs": [],
   "source": [
    "data['geometry'] = data.apply(lambda row: Point(row['geo_point_2d_a'], row['geo_point_2d_b']), axis=1)"
   ]
  },
  {
   "cell_type": "code",
   "execution_count": null,
   "id": "029f50d6-63fa-4244-bb5f-b4f18085a899",
   "metadata": {},
   "outputs": [],
   "source": [
    "def create_map_with_markers(data,location =[48.858379601173475, 2.3460534179549994], zoom_start=12, color='green', add_popup=False, map_first_params=None,item_first_param=None, map_second_params=None,second_param=None):\n",
    "    gdf = gpd.GeoDataFrame(data, geometry='geometry')\n",
    "    gdf['point_size'] = gdf['hauteur_m']\n",
    "\n",
    "    stade_mapping = {\n",
    "        'J':'Jeune',\n",
    "        'JA':'jeune Adulte',\n",
    "        'A':'Adulte',\n",
    "        'M':'Mature'\n",
    "    }\n",
    "    \n",
    "    m = folium.Map(location =location, zoom_start=zoom_start)\n",
    "    title = 'Carte de Tous les Arbres'\n",
    "    if item_first_param:\n",
    "        stade_full_name = stade_mapping.get(item_first_param, item_first_param)\n",
    "        title = f'Carte des Arbres par {map_first_params}: {stade_full_name}'\n",
    "    if second_param:\n",
    "        title += f' et {map_second_params}: {second_param}'\n",
    "\n",
    "    title_html = f'''\n",
    "         <h3 align=\"center\" style=\"font-size:20px\"><b>{title}</b></h3>\n",
    "         '''\n",
    "    m.get_root().html.add_child(folium.Element(title_html))\n",
    "\n",
    "    for idx, row in gdf.iterrows():\n",
    "        popup = None\n",
    "        if add_popup:\n",
    "            popup_text = f\"\"\"\n",
    "            <b>Libellé Français:</b> {row['libelle_francais']}<br>\n",
    "            <b>Hauteur:</b> {row['hauteur_m']} m<br>\n",
    "            <b>Circonférence:</b> {row['circonference_cm']} cm<br>\n",
    "            <b>Remarquable:</b> {row['remarquable']}<br>\n",
    "            <b>Latitude:</b> {row['geo_point_2d_b']}<br>\n",
    "            <b>Longitude:</b> {row['geo_point_2d_a']}\n",
    "            \"\"\"\n",
    "            popup = folium.Popup(popup_text, max_width=300)\n",
    "\n",
    "        folium.CircleMarker(\n",
    "            location =[row['geo_point_2d_a'],row['geo_point_2d_b']],\n",
    "            radius=row['point_size']/2,\n",
    "            color=color,\n",
    "            fill=True,\n",
    "            fill_color=color,\n",
    "            fill_opacity=0.5,\n",
    "            popup=popup\n",
    "    ).add_to(m)\n",
    "    legend_html = '''\n",
    "     <div style=\"position: fixed; \n",
    "                 bottom: 50px; left: 50px; width: 250px; height: 75px; \n",
    "                 border:2px solid grey; z-index:9999; font-size:14px;\n",
    "                 background-color:white;\n",
    "                 \">\n",
    "     &nbsp; Légende <br>\n",
    "     &nbsp; Taille du point: Hauteur de l'arbre <br>\n",
    "     &nbsp; <i class=\"fa fa-circle\" style=\"color:{}\"></i> Arbres\n",
    "     </div>\n",
    "     '''.format(color)\n",
    "    \n",
    "    m.get_root().html.add_child(folium.Element(legend_html))\n",
    "    return m"
   ]
  },
  {
   "cell_type": "code",
   "execution_count": null,
   "id": "273c2e9f-2645-4188-9a35-d56b25e69e83",
   "metadata": {},
   "outputs": [],
   "source": [
    "data.info()"
   ]
  },
  {
   "cell_type": "code",
   "execution_count": null,
   "id": "498d34cf-056e-47cd-b172-150cc0c1385c",
   "metadata": {},
   "outputs": [],
   "source": [
    "m=create_map_with_markers(data, color='blue')\n",
    "m"
   ]
  },
  {
   "cell_type": "code",
   "execution_count": null,
   "id": "9fd45638-e107-480c-b538-ac64f1ace46b",
   "metadata": {},
   "outputs": [],
   "source": [
    "map_first_params = 'stade_developpement'\n",
    "map_second_params = 'domanialite'\n",
    "data[map_first_params]=data[map_first_params].fillna('manquant')\n",
    "data[map_second_params]=data[map_second_params].fillna('manquant')\n",
    "if map_first_params == 'remarquable':\n",
    "    data['remarquable']= data['remarquable'].replace({0.0:'non remarquable', 1.0:'remarquable'})"
   ]
  },
  {
   "cell_type": "code",
   "execution_count": null,
   "id": "edf4b392-3b56-4ca1-aaf1-32aa4e647b7d",
   "metadata": {},
   "outputs": [],
   "source": [
    "if isinstance(data, pd.DataFrame):\n",
    "    \n",
    "    if isinstance(map_first_params, str) and map_first_params in data.columns:\n",
    "        \n",
    "        items_list=data[map_first_params].unique()\n",
    "        \n",
    "        for item in items_list:\n",
    "            if pd.isna(item):\n",
    "                m=create_map_with_markers(data,add_popup=True, item_first_param='NaN', map_first_params=map_first_params)\n",
    "                display(m)\n",
    "            else:\n",
    "                data_map = data[data[map_first_params] == item]\n",
    "                m=create_map_with_markers(data_map,add_popup=True, item_first_param=item,map_first_params=map_first_params)\n",
    "                display(m)\n",
    "    else:\n",
    "        print(f'{map_first_params} n\\'est pas une colonne valide dans le DataFrame.')\n",
    "else:\n",
    "    print(\"L\\'objet 'data' n\\'est pas un DataFrame\")"
   ]
  },
  {
   "cell_type": "code",
   "execution_count": null,
   "id": "50f0674a-6e39-42a1-bb6a-61bfe72d7267",
   "metadata": {},
   "outputs": [],
   "source": [
    "item_first_param=input(f'Merci de choisir le premier paramètre de votre graphique provenant de \"{map_first_params}\" dans la liste suivante: {data[map_first_params].unique()}')\n",
    "for item in data[map_first_params].unique():\n",
    "    if isinstance(item,str) and item.lower()==item_first_param:\n",
    "        item_first_param=item\n",
    "        break\n",
    "print(f' Vous avez saisie: {item_first_param}')\n",
    "data_filtered = data[data[map_first_params]==item_first_param]\n",
    "item_second_param=input(f'Choisir le second paramètre de votre graphique provenant de \"{map_second_params}\" dans la liste suivante filtré par \"{item_first_param}\": {data_filtered[map_second_params].unique()}')\n",
    "for item in data[map_second_params].unique():\n",
    "    if isinstance(item,str) and item.lower()==item_second_param:\n",
    "        item_second_param=item\n",
    "        break\n",
    "\n",
    "print(f' Vous avez saisie: {item_second_param}')\n",
    "data_map= data[(data[map_first_params]==item_first_param) & (data[map_second_params]==item_second_param)]\n",
    "data_map\n",
    "print(f'nombre d\\'individu\\n{len(data_map)}')\n",
    "m=create_map_with_markers(data_map,add_popup=True, item_first_param=item_first_param, map_first_params=map_first_params, map_second_params=map_second_params,second_param=item_second_param)\n",
    "m"
   ]
  },
  {
   "cell_type": "code",
   "execution_count": null,
   "id": "ae11a077-5eaa-4c76-9bd6-60a083903c89",
   "metadata": {
    "scrolled": true
   },
   "outputs": [],
   "source": [
    "data.shape"
   ]
  },
  {
   "cell_type": "markdown",
   "id": "dd384584-3511-48cc-8e47-5aa9b32ac3a5",
   "metadata": {},
   "source": [
    "Avec cette carte nous pouvons identifier rapidement les arbres en fonction des paramètres map_first_params et map_second_params que l'on peut choisir comme on le souhaite.<br/>\n",
    "Cela va nous permettre de visualiser au mieux ou sont situéles arbres pour les tournées d'entretien afin d'atteindre les objectifs du \"Plan Arbre\" et de la charte."
   ]
  },
  {
   "cell_type": "markdown",
   "id": "f90e370b-6f48-467d-9a07-0d63bb9983e6",
   "metadata": {},
   "source": [
    "On notera que notre jeu de données analysé a été nettoyer des données impossible et abérantes. Pour une analyse collant au plus près du terrain, il conviendra de compléter ces données (Valeur égales à zero, NaN ou supérieurs aux hauteur et circonférence définis pour les outliers)"
   ]
  },
  {
   "cell_type": "markdown",
   "id": "4b0292e5-b4cf-4130-9ed1-ba929c725124",
   "metadata": {},
   "source": [
    "# Optimisation des tournées: Algorithmes de Path"
   ]
  },
  {
   "cell_type": "markdown",
   "id": "6ceab224-cd74-4d3b-9607-b881040c9b8e",
   "metadata": {
    "jp-MarkdownHeadingCollapsed": true
   },
   "source": [
    "Un algorithme d'optimisation de path en analyse de données est une technique utilisée pour trouver le chemin le plus optimal ou le plus efficace entre différents points."
   ]
  },
  {
   "cell_type": "markdown",
   "id": "aa1db1cc-fa4b-4ae6-87eb-17039f400522",
   "metadata": {},
   "source": [
    "## Dans le cas de l'optimisation de tourner pour l'entretien des arbres:"
   ]
  },
  {
   "cell_type": "markdown",
   "id": "f64d112a-8a33-4d93-b0fa-58b411b094e9",
   "metadata": {},
   "source": [
    "Pour l'optimisation des tournées d'entretien des arbres, des algorithmes d'optimisation de chemin peuvent être utilisés pour minimiser le temps et les coûts associés aux déplacements entre différents arbres ou sites à entretenir. Voici quelques méthodes et algorithmes spécifiques qui peuvent être appliqués dans ce contexte :\n",
    "\n",
    "### Problème du Voyageur de Commerce (TSP)\n",
    "\n",
    "Le problème du voyageur de commerce est un problème d'optimisation classique où l'objectif est de trouver le chemin le plus court passant par un ensemble de points (dans ce cas, les arbres) et revenant au point de départ. Plusieurs algorithmes peuvent être utilisés pour résoudre le TSP\n",
    "\n",
    "\n",
    "### Méthode de Clarke-Wright (Savings Algorithm)\n",
    "\n",
    "Cette méthode est utilisée pour optimiser les routes dans un problème de tournées de véhicules (VRP), qui est une généralisation du TSP. Elle commence par une solution initiale où chaque arbre est visité indépendamment et fusionne ensuite les routes de manière itérative pour réduire le coût total.\n",
    "\n",
    "### Algorithmes Heuristiques et Métaheuristiques\n",
    "\n",
    "Ces algorithmes sont souvent utilisés pour trouver des solutions quasi-optimales à des problèmes complexes comme l'optimisation des tournées d'entretien"
   ]
  },
  {
   "cell_type": "markdown",
   "id": "316043fd-03b1-47e6-94b8-c21fa820ccab",
   "metadata": {},
   "source": [
    "# Conclusion\n",
    "\n",
    "Ces différentes approches permettrons d'organiser de manière efficace vos tournées d'entretien.\n",
    "\n",
    "## Pour aller plus loin:\n",
    "\n",
    "En fonction de la répartition des équipes sur le territoire et de leur point de départ, je peux optimiser les tournées par arrondissement si cela est plus efficace pour vous."
   ]
  },
  {
   "cell_type": "code",
   "execution_count": null,
   "id": "34c1392a-480a-421e-8590-050c77353cee",
   "metadata": {},
   "outputs": [],
   "source": []
  }
 ],
 "metadata": {
  "kernelspec": {
   "display_name": "Python (P2_env)",
   "language": "python",
   "name": "p2_env"
  },
  "language_info": {
   "codemirror_mode": {
    "name": "ipython",
    "version": 3
   },
   "file_extension": ".py",
   "mimetype": "text/x-python",
   "name": "python",
   "nbconvert_exporter": "python",
   "pygments_lexer": "ipython3",
   "version": "3.11.7"
  }
 },
 "nbformat": 4,
 "nbformat_minor": 5
}
